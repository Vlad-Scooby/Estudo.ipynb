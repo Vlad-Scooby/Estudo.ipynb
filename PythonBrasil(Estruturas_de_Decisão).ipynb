{
  "nbformat": 4,
  "nbformat_minor": 0,
  "metadata": {
    "colab": {
      "name": "PythonBrasil(Estruturas de Decisão).ipynb",
      "provenance": [],
      "collapsed_sections": [
        "oBhArZDuGQWC",
        "q0tctvOHGYbm",
        "_vgUsT4UG4xy",
        "qobOj94eJ92c",
        "ebDTCV56KE4W",
        "cYwpllxircR1",
        "PBjl-s9p7efV",
        "Ooykuyu_9YKI",
        "pUqH2L89OZt0",
        "BSWlcY6z8JUI",
        "4_cvWhQ1MO1P",
        "f1T-lLb2jen5",
        "o-e7oEUdDBmA",
        "GtCGrdRVVcBa",
        "ZqtiCWWEapXg",
        "vEOMcVw_3EuE",
        "5lNL3ABMnkUm",
        "UlstZg2qn11c",
        "2UwodjHBoLs-",
        "vjzI6v4boTWL",
        "1FyKSRgN3eZY",
        "p0jKTip_Ogmj",
        "qykHunMUOqCL",
        "QdsulitiO1Uk",
        "I0HFDQkrPFJf",
        "qW0lo3tUPZYT",
        "noj_LK5oQEji",
        "olz3h1ldRgc8"
      ],
      "authorship_tag": "ABX9TyM/ANe1FGRT+DM0ocA7tBP7",
      "include_colab_link": true
    },
    "kernelspec": {
      "name": "python3",
      "display_name": "Python 3"
    },
    "language_info": {
      "name": "python"
    }
  },
  "cells": [
    {
      "cell_type": "markdown",
      "metadata": {
        "id": "view-in-github",
        "colab_type": "text"
      },
      "source": [
        "<a href=\"https://colab.research.google.com/github/Vlad-Scooby/Estudo.ipynb/blob/main/PythonBrasil(Estruturas_de_Decis%C3%A3o).ipynb\" target=\"_parent\"><img src=\"https://colab.research.google.com/assets/colab-badge.svg\" alt=\"Open In Colab\"/></a>"
      ]
    },
    {
      "cell_type": "markdown",
      "metadata": {
        "id": "4hpAcghtEUrF"
      },
      "source": [
        "#Desafio DevPro: Aluno [Vlad Scooby](https://github.com/Vlad-Scooby)"
      ]
    },
    {
      "cell_type": "markdown",
      "metadata": {
        "id": "QbQGju5rFWcb"
      },
      "source": [
        "#Exercicios [Python Brasil](https://wiki.python.org.br/ListaDeExercicios)"
      ]
    },
    {
      "cell_type": "markdown",
      "metadata": {
        "id": "1QIuaIl0Eh57"
      },
      "source": [
        "#[Estrutura de Decisão](https://wiki.python.org.br/EstruturaDeDecisao)\n"
      ]
    },
    {
      "cell_type": "markdown",
      "metadata": {
        "id": "oBhArZDuGQWC"
      },
      "source": [
        "## Exercício 1"
      ]
    },
    {
      "cell_type": "markdown",
      "metadata": {
        "id": "fHY1LOxqFruS"
      },
      "source": [
        "### Faça um Programa que peça dois números e imprima o maior deles."
      ]
    },
    {
      "cell_type": "code",
      "metadata": {
        "id": "2ncw41VjFtuu",
        "colab": {
          "base_uri": "https://localhost:8080/"
        },
        "outputId": "9f31aac5-f0bc-4802-d025-89ef1854f312"
      },
      "source": [
        "print('<<!Escolha do número maior!>>')\n",
        "print()\n",
        "\n",
        "numero1 = int(input('Digite um número: '))\n",
        "numero2 = int(input('Digite outro número: '))\n",
        "print()\n",
        "\n",
        "if numero1 > numero2:\n",
        "  print(f'O número {numero1} é maior que o número {numero2}')\n",
        "\n",
        "elif numero1 == numero2:\n",
        "  print(f'O número {numero1} é igual ao número {numero2}')\n",
        "\n",
        "else:\n",
        "  print(f'O número {numero2} é maior que o número {numero1}')"
      ],
      "execution_count": null,
      "outputs": [
        {
          "output_type": "stream",
          "name": "stdout",
          "text": [
            "<<!Escolha do número maior!>>\n",
            "\n",
            "Digite um número: 111\n",
            "Digite outro número: 67\n",
            "\n",
            "O número 111 é maior que o número 67\n"
          ]
        }
      ]
    },
    {
      "cell_type": "markdown",
      "metadata": {
        "id": "q0tctvOHGYbm"
      },
      "source": [
        "## Exercício 2"
      ]
    },
    {
      "cell_type": "markdown",
      "metadata": {
        "id": "Q324KRjHGjoF"
      },
      "source": [
        "### Faça um Programa que peça um valor e mostre na tela se o valor é positivo ou negativo."
      ]
    },
    {
      "cell_type": "code",
      "metadata": {
        "id": "uBaSHsI-Ghah",
        "colab": {
          "base_uri": "https://localhost:8080/"
        },
        "outputId": "54482e14-094f-4160-e03c-44b0240d9045"
      },
      "source": [
        "valor = int(input('Digite um número: '))\n",
        "print()\n",
        "\n",
        "if valor <= -1:\n",
        "  print(f'O número {valor} é um valor negativo')\n",
        "\n",
        "else:\n",
        "  print(f'O número {valor} é um valor positivo')"
      ],
      "execution_count": null,
      "outputs": [
        {
          "output_type": "stream",
          "name": "stdout",
          "text": [
            "Digite um número: -34\n",
            "\n",
            "O número -34 é um valor negativo\n"
          ]
        }
      ]
    },
    {
      "cell_type": "markdown",
      "metadata": {
        "id": "_vgUsT4UG4xy"
      },
      "source": [
        "## Exercício 3"
      ]
    },
    {
      "cell_type": "markdown",
      "metadata": {
        "id": "7KXnJjZKGtgm"
      },
      "source": [
        "### Faça um Programa que verifique se uma letra digitada é \"F\" ou \"M\". Conforme a letra escrever: F - Feminino, M - Masculino, Sexo Inválido."
      ]
    },
    {
      "cell_type": "code",
      "metadata": {
        "id": "Ir3U-8RtGzwK",
        "colab": {
          "base_uri": "https://localhost:8080/"
        },
        "outputId": "0efb7d29-8cbe-4f4b-d313-6dda9c4228d8"
      },
      "source": [
        "print('Escolha do Sexo')\n",
        "print('Digite \"F\" para feminino, \"M\" para masculino, \"I\" para indefinido')\n",
        "print()\n",
        "qual_sexo = input('Digite qual seu sexo: ').upper()\n",
        "print()\n",
        "\n",
        "if qual_sexo == 'M' or qual_sexo == 'MASCULINO':\n",
        "  print(f'Sexo: Masculino')\n",
        "\n",
        "elif qual_sexo == 'F' or qual_sexo == 'FEMININO':\n",
        "  print(f'Sexo: Feminino')\n",
        "\n",
        "elif qual_sexo == 'I' or qual_sexo == 'INDEFINIDO':\n",
        "  print(f'Sexo: Indefinido')\n",
        "\n",
        "else:\n",
        "  print(f'Sexo ínvalido, repita a operação')"
      ],
      "execution_count": null,
      "outputs": [
        {
          "output_type": "stream",
          "name": "stdout",
          "text": [
            "Escolha do Sexo\n",
            "Digite \"F\" para feminino, \"M\" para masculino, \"I\" para indefinido\n",
            "\n",
            "Digite qual seu sexo: ghghghgh\n",
            "\n",
            "Sexo ínvalido, repita a operação\n"
          ]
        }
      ]
    },
    {
      "cell_type": "markdown",
      "metadata": {
        "id": "qobOj94eJ92c"
      },
      "source": [
        "## Exercício 4"
      ]
    },
    {
      "cell_type": "markdown",
      "metadata": {
        "id": "nzQzlTZnKBO9"
      },
      "source": [
        "### Faça um Programa que verifique se uma letra digitada é vogal ou consoante."
      ]
    },
    {
      "cell_type": "code",
      "metadata": {
        "id": "XFMyKz8eKDsg",
        "colab": {
          "base_uri": "https://localhost:8080/"
        },
        "outputId": "7270de9d-3a99-4932-81ab-73b890281501"
      },
      "source": [
        "vogal_ou_consoante = input('Digite uma Letra: ').upper()\n",
        "print()\n",
        "\n",
        "if vogal_ou_consoante == 'A' or vogal_ou_consoante == 'E' or vogal_ou_consoante == 'I' or vogal_ou_consoante == 'O' or vogal_ou_consoante == 'U':\n",
        "  print(f'A letra: {vogal_ou_consoante} é uma Vogal.')\n",
        "\n",
        "else:\n",
        "  print(f'A letra: {vogal_ou_consoante} é uma Consoante.')"
      ],
      "execution_count": null,
      "outputs": [
        {
          "output_type": "stream",
          "name": "stdout",
          "text": [
            "Digite uma Letra: g\n",
            "\n",
            "A letra G é uma Consoante.\n"
          ]
        }
      ]
    },
    {
      "cell_type": "markdown",
      "metadata": {
        "id": "ebDTCV56KE4W"
      },
      "source": [
        "## Exercício 5"
      ]
    },
    {
      "cell_type": "markdown",
      "metadata": {
        "id": "SxybLzGlKIjb"
      },
      "source": [
        "### Faça um programa para a leitura de duas notas parciais de um aluno. O programa deve calcular a média alcançada por aluno e apresentar:\n",
        "###A mensagem \"Aprovado\", se a média alcançada for maior ou igual a sete;\n",
        "###A mensagem \"Reprovado\", se a média for menor do que sete;\n",
        "###A mensagem \"Aprovado com Distinção\", se a média for igual a dez."
      ]
    },
    {
      "cell_type": "code",
      "metadata": {
        "id": "ewZbD6rUKSq3",
        "colab": {
          "base_uri": "https://localhost:8080/"
        },
        "outputId": "132355f3-cd4a-46b5-ca55-6d0f1238f22f"
      },
      "source": [
        "primeira_nota = float(input('Digite a primeira nota: '))\n",
        "segunda_nota = float(input('Digite a segunda nota:'))\n",
        "print()\n",
        "\n",
        "media_das_notas = (primeira_nota + segunda_nota) / 2\n",
        "\n",
        "if media_das_notas >= 10:\n",
        "  print(f'Nota do Aluno: {media_das_notas}')\n",
        "  print(f'Aluno Aprovado com Destinção')\n",
        "\n",
        "elif media_das_notas >= 7:\n",
        "   print(f'Nota do Aluno: {media_das_notas}')\n",
        "   print(f'Aluno Aprovado') \n",
        "  \n",
        "elif media_das_notas >= 6:\n",
        "   print(f'Nota do Aluno: {media_das_notas}')\n",
        "   print(f'Aluno está de Recuperação')\n",
        "\n",
        "else:\n",
        "   print(f'Nota do Aluno: {media_das_notas}')\n",
        "   print(f'Aluno Reprovado')\n"
      ],
      "execution_count": null,
      "outputs": [
        {
          "output_type": "stream",
          "name": "stdout",
          "text": [
            "Digite a primeira nota: 6.1\n",
            "Digite a segunda nota:6\n",
            "\n",
            "Nota do Aluno: 6.05\n",
            "Aluno está de Recuperação\n"
          ]
        }
      ]
    },
    {
      "cell_type": "markdown",
      "metadata": {
        "id": "cYwpllxircR1"
      },
      "source": [
        "## Exercício 6"
      ]
    },
    {
      "cell_type": "markdown",
      "metadata": {
        "id": "6IZg_1ByrfjW"
      },
      "source": [
        "### Faça um Programa que leia três números e mostre o maior deles."
      ]
    },
    {
      "cell_type": "code",
      "metadata": {
        "colab": {
          "base_uri": "https://localhost:8080/"
        },
        "id": "Rc5EiIBsrj39",
        "outputId": "9c895716-dafe-4308-d0c1-9286d5deff77"
      },
      "source": [
        "primeiro_numero = int(input('Digite um número: '))\n",
        "segundo_numero = int(input('Outro número: '))\n",
        "terceiro_numero = int(input('Mais um número: '))\n",
        "print()\n",
        "\n",
        "if primeiro_numero > segundo_numero and primeiro_numero > terceiro_numero:\n",
        "  print(f'{primeiro_numero} é maior que {segundo_numero} e {terceiro_numero}')\n",
        "\n",
        "elif segundo_numero > primeiro_numero and segundo_numero > terceiro_numero:\n",
        "  print(f'{segundo_numero} é maior que {primeiro_numero} e {terceiro_numero}')\n",
        "\n",
        "else:\n",
        "  print(f'{terceiro_numero} é maior que {primeiro_numero} e {segundo_numero}')\n"
      ],
      "execution_count": null,
      "outputs": [
        {
          "output_type": "stream",
          "name": "stdout",
          "text": [
            "Digite um número: 10\n",
            "Outro número: 0\n",
            "Mais um número: 900\n",
            "\n",
            "900 é maior que 10 e 0\n"
          ]
        }
      ]
    },
    {
      "cell_type": "markdown",
      "metadata": {
        "id": "PBjl-s9p7efV"
      },
      "source": [
        "## Exercício 7"
      ]
    },
    {
      "cell_type": "markdown",
      "metadata": {
        "id": "W3IsFFso7i_Y"
      },
      "source": [
        "### Faça um Programa que leia três números e mostre o maior e o menor deles."
      ]
    },
    {
      "cell_type": "code",
      "metadata": {
        "colab": {
          "base_uri": "https://localhost:8080/"
        },
        "id": "Qsc8wQCu7paF",
        "outputId": "55416775-5127-4b05-841c-7829e162e215"
      },
      "source": [
        "numero01 = int(input('Digite 1° número: '))\n",
        "numero02 = int(input('Digite 2° número: '))\n",
        "numero03 = int(input('Digite 3° número: '))\n",
        "\n",
        "maior_valor = numero01\n",
        "if numero02 > numero01 and numero02 > numero03:\n",
        "  maior_valor = numero02\n",
        "\n",
        "elif numero03 > numero01 and numero03 > numero02:\n",
        "  maior_valor = numero03\n",
        "\n",
        "menor_valor = numero01\n",
        "if numero02 < numero01 and numero02 < numero03:\n",
        "  menor_valor = numero02\n",
        "\n",
        "elif numero03 < numero01 and numero03 < numero02:\n",
        "  menor_valor = numero03\n",
        "print()\n",
        "print(f'O Maior número é: {maior_valor}')\n",
        "print(f'O Menor número é: {menor_valor}')\n"
      ],
      "execution_count": null,
      "outputs": [
        {
          "output_type": "stream",
          "name": "stdout",
          "text": [
            "     Digite um número: 78\n",
            "  Digite outro número: 79\n",
            "Digite mais um número: 80\n",
            "\n",
            "O Maior número é: 80\n",
            "O Menor número é: 78\n"
          ]
        }
      ]
    },
    {
      "cell_type": "markdown",
      "metadata": {
        "id": "Ooykuyu_9YKI"
      },
      "source": [
        "## Exercício 8"
      ]
    },
    {
      "cell_type": "markdown",
      "metadata": {
        "id": "RpPp95sA9chS"
      },
      "source": [
        "### Faça um programa que pergunte o preço de três produtos e informe qual produto você deve comprar, sabendo que a decisão é sempre pelo mais barato."
      ]
    },
    {
      "cell_type": "code",
      "metadata": {
        "id": "TVKHyRT09h2B",
        "colab": {
          "base_uri": "https://localhost:8080/"
        },
        "outputId": "8557181f-06b6-431f-b16e-b4a9108add5f"
      },
      "source": [
        "placa_nvidia = float(input('Qual o valor da placa GeForce RTX 3070    R$ : '))\n",
        "placa_amd = float(input('Qual o valor da placa Radeon RX 6600 XT   R$ : '))\n",
        "placa_intel = float(input('Qual o valor da placa Intel Arc Alchemist R$ : '))\n",
        "print()\n",
        "\n",
        "placa_mais_cara = placa_nvidia\n",
        "if placa_amd > placa_nvidia and placa_amd > placa_intel:\n",
        "  placa_mais_cara = placa_amd\n",
        "  print(f'O modelo mais caro é Radeon RX 6600 XT R$ {placa_mais_cara}')\n",
        "\n",
        "elif placa_intel > placa_nvidia and placa_intel > placa_amd:\n",
        "  placa_mais_cara = placa_intel\n",
        "  print(f'O modelo mais caro é Intel Arc Alchemist R$ {placa_mais_cara}')\n",
        "\n",
        "else:\n",
        "  print(f'O modelo mais caro é GeForce RTX 3070 R$ {placa_mais_cara}')\n",
        "print()\n",
        "\n",
        "placa_mais_barata = placa_nvidia\n",
        "if placa_amd < placa_nvidia and placa_amd < placa_intel:\n",
        "  placa_mais_barata = placa_amd\n",
        "  print(f'O modelo mais barato é Radeon RX 6600 XT R$ {placa_mais_barata}')\n",
        "\n",
        "elif placa_intel < placa_nvidia and placa_intel < placa_amd:\n",
        "  placa_mais_barata = placa_intel\n",
        "  print(f'O modelo mais barato é Intel Arc Alchemist R$ {placa_mais_barata}')\n",
        "\n",
        "else:\n",
        "  print(f'O modelo mais barato é GeForce RTX 3070 R$ {placa_mais_barata}')\n",
        "\n",
        "\n",
        "print()\n",
        "print(f'Agora é com você, Boa Compra! ')\n"
      ],
      "execution_count": null,
      "outputs": [
        {
          "output_type": "stream",
          "name": "stdout",
          "text": [
            "Qual o valor da placa GeForce RTX 3070    R$ : 566666\n",
            "Qual o valor da placa Radeon RX 6600 XT   R$ : 5666666\n",
            "Qual o valor da placa Intel Arc Alchemist R$ : 566667888\n",
            "\n",
            "O modelo mais caro é Intel Arc Alchemist R$ 566667888.0\n",
            "\n",
            "O modelo mais barato é GeForce RTX 3070 R$ 566666.0\n",
            "\n",
            "Agora é com você, Boa Compra! \n"
          ]
        }
      ]
    },
    {
      "cell_type": "markdown",
      "metadata": {
        "id": "pUqH2L89OZt0"
      },
      "source": [
        "## Exercício 9"
      ]
    },
    {
      "cell_type": "markdown",
      "metadata": {
        "id": "ew1FKB5UOd0e"
      },
      "source": [
        "### Faça um Programa que leia três números e mostre-os em ordem decrescente."
      ]
    },
    {
      "cell_type": "code",
      "metadata": {
        "colab": {
          "base_uri": "https://localhost:8080/"
        },
        "id": "-x3VzTNsOf20",
        "outputId": "8ebc69f5-9138-489a-8b8d-7bfa1f0f78fb"
      },
      "source": [
        "primeiro_numero = float(input('Digite seu primeiro número: '))\n",
        "segundo_numero = float(input('Digite seu segundo número: '))\n",
        "terceiro_numero = float(input('Digite seu terceiro número: '))\n",
        "\n",
        "if primeiro_numero > segundo_numero and segundo_numero > terceiro_numero:\n",
        "  print( primeiro_numero, '>', segundo_numero, '>', terceiro_numero )\n",
        "\n",
        "elif segundo_numero > primeiro_numero and primeiro_numero > terceiro_numero:\n",
        "  print( segundo_numero, '>', primeiro_numero, '>', terceiro_numero )\n",
        "\n",
        "elif segundo_numero > terceiro_numero and terceiro_numero > primeiro_numero:\n",
        "  print( segundo_numero, '>', terceiro_numero, '>', primeiro_numero )\n",
        "\n",
        "elif terceiro_numero > primeiro_numero and primeiro_numero > segundo_numero:\n",
        "  print( terceiro_numero, '>', primeiro_numero, '>', segundo_numero )\n",
        "\n",
        "elif terceiro_numero > segundo_numero and segundo_numero > primeiro_numero:\n",
        "  print( terceiro_numero, '>', segundo_numero, '>', primeiro_numero )\n",
        "\n",
        "else:\n",
        "  print( primeiro_numero, '>', terceiro_numero, '>', segundo_numero )"
      ],
      "execution_count": null,
      "outputs": [
        {
          "output_type": "stream",
          "name": "stdout",
          "text": [
            "Digite seu primeiro número: 3\n",
            "Digite seu segundo número: 1\n",
            "Digite seu terceiro número: 2\n",
            "3.0 > 2.0 > 1.0\n"
          ]
        }
      ]
    },
    {
      "cell_type": "markdown",
      "metadata": {
        "id": "BSWlcY6z8JUI"
      },
      "source": [
        "## Exercício 10"
      ]
    },
    {
      "cell_type": "markdown",
      "metadata": {
        "id": "0j-qlbD78MWN"
      },
      "source": [
        "### Faça um Programa que pergunte em que turno você estuda. Peça para digitar M-matutino ou V-Vespertino ou N- Noturno. Imprima a mensagem \"Bom Dia!\", \"Boa Tarde!\" ou \"Boa Noite!\" ou \"Valor Inválido!\", conforme o caso."
      ]
    },
    {
      "cell_type": "code",
      "metadata": {
        "colab": {
          "base_uri": "https://localhost:8080/"
        },
        "id": "38pDp8Nl8PA5",
        "outputId": "d328f144-5503-4cdf-f4fb-46fc1a2fdbd6"
      },
      "source": [
        "print(f'Qual Turno você estuda?')\n",
        "turno = (input(f'Digite M - Matutino, V - Vespertino, N - Nortuno:  ')).upper()\n",
        "\n",
        "if turno == 'M' or turno == 'Matutino':\n",
        "  print('Bom Dia!')\n",
        "\n",
        "elif turno == \"V\" or turno == 'Vespertino':\n",
        "  print('Boa Tarde!')\n",
        "\n",
        "elif turno == 'N' or turno == 'Noturno':\n",
        "  print('Boa Noite!')\n",
        "\n",
        "else:\n",
        "  print(f'Valor Inválido')"
      ],
      "execution_count": null,
      "outputs": [
        {
          "output_type": "stream",
          "name": "stdout",
          "text": [
            "Qual Turno você estuda?\n",
            "Digite M - Matutino, V - Vespertino, N - Nortuno:  v\n",
            "Boa Tarde!\n"
          ]
        }
      ]
    },
    {
      "cell_type": "markdown",
      "metadata": {
        "id": "4_cvWhQ1MO1P"
      },
      "source": [
        "## Exercício 11"
      ]
    },
    {
      "cell_type": "markdown",
      "metadata": {
        "id": "GYQ_tWoxMR8v"
      },
      "source": [
        "### As Organizações Tabajara resolveram dar um aumento de salário aos seus colaboradores e lhe contraram para desenvolver o programa que calculará os reajustes.Faça um programa que recebe o salário de um colaborador e o reajuste segundo o seguinte critério, baseado no salário atual:\n",
        "###salários até R'' 280,00 (incluindo)  aumento de 20%.\n",
        "\n",
        "###salários entre R'' 280,00 e R'' 700,00 aumento de 15%\n",
        "\n",
        "###salários entre R''  700,00 e R''  1500,00  aumento de 10%\n",
        "\n",
        "###salários de R'' 1500,00 em diante  aumento de 5%\n",
        " \n",
        "###Após o aumento ser realizado, informe na tela:\n",
        "####o salário antes do reajuste\n",
        "####o percentual de aumento aplicado\n",
        "####o valor do aumento\n",
        "####o novo salário, após o aumento."
      ]
    },
    {
      "cell_type": "code",
      "metadata": {
        "colab": {
          "base_uri": "https://localhost:8080/"
        },
        "id": "lNUg4m0OMoOP",
        "outputId": "4288e3e7-a83d-414b-cdd0-be81eb80915e"
      },
      "source": [
        "import math\n",
        "\n",
        "salario = float(input('Quanto você recebe: R$ '))\n",
        "\n",
        "aumento1 = salario  + (salario * 20 / 100)\n",
        "aumento2 = salario  + (salario * 15 / 100)\n",
        "aumento3 = salario  + (salario * 10 / 100)\n",
        "aumento4 = salario  + (salario * 5 / 100)\n",
        "\n",
        "if salario <= 280:\n",
        "  print('Salário Atual é R$', salario)\n",
        "  print('Seu Aumento é de 20%')\n",
        "  print('Valor do Aumento: R$',aumento1 - salario )\n",
        "  print('Seu novo Salário é R$',aumento1)\n",
        "\n",
        "elif salario <= 700:\n",
        "  print('Salário Atual é R$', salario)\n",
        "  print('Seu Aumento é de 15%')\n",
        "  print('Valor do Aumento: R$',aumento2 - salario )\n",
        "  print('Seu novo Salário é R$',aumento2)\n",
        "\n",
        "elif salario <= 1500:\n",
        "  print('Salário Atual é R$', salario)\n",
        "  print('Seu Aumento é de 10%')\n",
        "  print('Valor do Aumento: R$',aumento3 - salario )\n",
        "  print('Seu novo Salário é R$',aumento3)\n",
        "\n",
        "elif salario > 1501:\n",
        "  print('Salário Atual é R$', salario)\n",
        "  print('Seu Aumento é de 5%')\n",
        "  print('Valor do Aumento: R$',aumento4 - salario )\n",
        "  print('Seu novo Salário é R$',aumento4)\n",
        "\n",
        "else:\n",
        "  print('Hello World')"
      ],
      "execution_count": null,
      "outputs": [
        {
          "output_type": "stream",
          "name": "stdout",
          "text": [
            "Quanto você recebe: R$ 80\n",
            "Salário Atual é R$ 80.0\n",
            "Seu Aumento é de 20%\n",
            "Valor do Aumento: R$ 16.0\n",
            "Seu novo Salário é R$ 96.0\n"
          ]
        }
      ]
    },
    {
      "cell_type": "markdown",
      "metadata": {
        "id": "f1T-lLb2jen5"
      },
      "source": [
        "## Exercício 12"
      ]
    },
    {
      "cell_type": "markdown",
      "metadata": {
        "id": "uNtkdqHLjhcN"
      },
      "source": [
        "###### Faça um programa para o cálculo de uma folha de pagamento, sabendo que os descontos são do Imposto de Renda, que depende do salário bruto (conforme tabela abaixo) e 3% para o Sindicato e que o FGTS corresponde a 11% do Salário Bruto, mas não é descontado (é a empresa que deposita). O Salário Líquido corresponde ao Salário Bruto menos os descontos. O programa deverá pedir ao usuário o valor da sua hora e a quantidade de horas trabalhadas no mês.\n",
        "Desconto do IR:\n",
        "\n",
        "Salário Bruto até 900 (inclusive) - isento\n",
        "\n",
        "Salário Bruto até 1500 (inclusive) - desconto de 5%\n",
        "\n",
        "Salário Bruto até 2500 (inclusive) - desconto de 10%\n",
        "\n",
        "Salário Bruto acima de 2500 - desconto de 20% \n",
        "\n",
        "Imprima na tela as informações, dispostas conforme o exemplo abaixo.\n",
        "\n",
        " No exemplo o valor da hora é 5 e a quantidade de hora é 220.\n",
        "\n",
        "        Salário Bruto: (5 * 220)        : R$ 1100,00\n",
        "        (-) IR (5%)                     : R$   55,00  \n",
        "        (-) INSS ( 10%)                 : R$  110,00\n",
        "        FGTS (11%)                      : R$  121,00\n",
        "        Total de descontos              : R$  165,00\n",
        "        Salário Liquido                 : R$  "
      ]
    },
    {
      "cell_type": "code",
      "metadata": {
        "colab": {
          "base_uri": "https://localhost:8080/"
        },
        "id": "XSP1CFj9kQB6",
        "outputId": "07ad72d3-a070-4c11-869d-460258a0245f"
      },
      "source": [
        "import math\n",
        "hora_trab = float(input(f'Quanto você recebe por hora: '))\n",
        "hora_mes = float(input(f'Quantas horas você trabalhou no Mês: '))\n",
        "\n",
        "total_hr = math.floor(hora_trab * hora_mes)\n",
        "sindicato = math.floor(total_hr * 3 / 100)\n",
        "\n",
        "ir =  math.floor(total_hr + (total_hr * 5 / 100))\n",
        "inss =  math.floor(total_hr + (total_hr * 10 / 100))\n",
        "fgts =  math.floor(total_hr + (total_hr * 11 / 100))\n",
        "\n",
        "print(f'Salário:', total_hr)\n",
        "\n",
        "if total_hr <= 900:\n",
        "  print(f'Desconto Sindicato 3%: R$', sindicato )\n",
        "  print(f'Desconto IR: R$', ir - total_hr )\n",
        "  print(f'Desconto INSS: R$', inss - total_hr)\n",
        "  print(f'Desconto FGTS: R$', fgts - total_hr)\n",
        "  print(f'Total de Desconto + (3%) Sindicato: R$', ( ir - total_hr) + (inss - total_hr) + sindicato)\n",
        "  print(f'Salário Liquido: R$', total_hr - (( ir - total_hr) + (inss - total_hr) + sindicato))\n",
        "\n",
        "elif total_hr <= 1500:\n",
        "  print(f'Desconto Sindicato 3%: R$', sindicato )\n",
        "  print(f'Desconto IR: R$', ir - total_hr )\n",
        "  print(f'Desconto INSS: R$', inss - total_hr)\n",
        "  print(f'Desconto FGTS: R$', fgts - total_hr)\n",
        "  print(f'Total de Desconto + (3%) Sindicato: R$', ( ir - total_hr) + (inss - total_hr) + sindicato)\n",
        "  print(f'Salário Liquido: R$', total_hr - (total_hr * 5 /100) - (( ir - total_hr) + (inss - total_hr) + sindicato))\n",
        "\n",
        "elif total_hr <= 2500:\n",
        "  print(f'Desconto Sindicato 3%: R$', sindicato )\n",
        "  print(f'Desconto IR: R$', ir - total_hr )\n",
        "  print(f'Desconto INSS: R$', inss - total_hr)\n",
        "  print(f'Desconto FGTS: R$', fgts - total_hr)\n",
        "  print(f'Total de Desconto + (3%) Sindicato: R$', ( ir - total_hr) + (inss - total_hr) + sindicato)\n",
        "  print(f'Salário Liquido: R$', total_hr - (total_hr * 10 /100) - (( ir - total_hr) + (inss - total_hr) + sindicato))\n",
        "\n",
        "elif total_hr >= 2500:\n",
        "  print(f'Desconto Sindicato 3%: R$', sindicato )\n",
        "  print(f'Desconto IR: R$', ir - total_hr )\n",
        "  print(f'Desconto INSS: R$', inss - total_hr)\n",
        "  print(f'Desconto FGTS: R$', fgts - total_hr)\n",
        "  print(f'Total de Desconto + (3%) Sindicato: R$', ( ir - total_hr) + (inss - total_hr) + sindicato)\n",
        "  print(f'Salário Liquido: R$', total_hr - (total_hr * 20 /100) - (( ir - total_hr) + (inss - total_hr) + sindicato))\n"
      ],
      "execution_count": null,
      "outputs": [
        {
          "output_type": "stream",
          "name": "stdout",
          "text": [
            "Quanto você recebe por hora: 50\n",
            "Quantas horas você trabalhou no Mês: 66\n",
            "Salário: 3300\n",
            "Desconto Sindicato 3%: R$ 99\n",
            "Desconto IR: R$ 165\n",
            "Desconto INSS: R$ 330\n",
            "Desconto FGTS: R$ 363\n",
            "Total de Desconto + (3%) Sindicato: R$ 594\n",
            "Salário Liquido: R$ 2046.0\n"
          ]
        }
      ]
    },
    {
      "cell_type": "markdown",
      "metadata": {
        "id": "o-e7oEUdDBmA"
      },
      "source": [
        "## Exercício 13"
      ]
    },
    {
      "cell_type": "markdown",
      "metadata": {
        "id": "gdLgNBkLDG6q"
      },
      "source": [
        "### Faça um Programa que leia um número e exiba o dia correspondente da semana. (1-Domingo, 2- Segunda, etc.), se digitar outro valor deve aparecer valor inválido."
      ]
    },
    {
      "cell_type": "code",
      "metadata": {
        "id": "x3AktuCSDI4X",
        "colab": {
          "base_uri": "https://localhost:8080/"
        },
        "outputId": "841fd0f1-4a4d-46c5-95db-ce855ee32d20"
      },
      "source": [
        "semana = float(input(f' Escolha um dia da semana: '))\n",
        "\n",
        "if semana == 1:\n",
        "  print(f'Domingo')\n",
        "\n",
        "elif semana == 2:\n",
        "  print(f'Segunda')\n",
        "\n",
        "elif semana == 3:\n",
        "  print(f'Terça')\n",
        "\n",
        "elif semana == 4:\n",
        "  print(f'Quarta')\n",
        "\n",
        "elif semana == 5:\n",
        "  print(f'Quinta')\n",
        "\n",
        "elif semana == 6:\n",
        "  print(f'Sexta')\n",
        "\n",
        "elif semana == 7:\n",
        "  print(f'Sábado')"
      ],
      "execution_count": null,
      "outputs": [
        {
          "output_type": "stream",
          "name": "stdout",
          "text": [
            " Escolha um dia da semana: 6\n",
            "Sexta\n"
          ]
        }
      ]
    },
    {
      "cell_type": "markdown",
      "metadata": {
        "id": "GtCGrdRVVcBa"
      },
      "source": [
        "## Exercício 14"
      ]
    },
    {
      "cell_type": "markdown",
      "metadata": {
        "id": "ZpsGppLAVfFJ"
      },
      "source": [
        "### Faça um programa que lê as duas notas parciais obtidas por um aluno numa disciplina ao longo de um semestre, e calcule a sua média. A atribuição de conceitos obedece à tabela abaixo:\n",
        "####Média de Aproveitamento  Conceito\n",
        "\n",
        "Entre 9.0 e 10.0        A\n",
        "\n",
        "Entre 7.5 e 9.0         B\n",
        "\n",
        "Entre 6.0 e 7.5         C\n",
        "\n",
        "Entre 4.0 e 6.0         D\n",
        "\n",
        "Entre 4.0 e zero        E\n",
        "\n",
        "O algoritmo deve mostrar na tela as notas, a média, o conceito correspondente e a mensagem “APROVADO” se o conceito for A, B ou C ou “REPROVADO” se o conceito for D ou E."
      ]
    },
    {
      "cell_type": "code",
      "metadata": {
        "colab": {
          "base_uri": "https://localhost:8080/"
        },
        "id": "CYlLGHCUVxcx",
        "outputId": "c15a5baf-2b74-4908-9aff-235f1ab3eb23"
      },
      "source": [
        "disciplina_1 = float(input(f'Qual valor da nota:'))\n",
        "disciplina_2 = float(input(f'Qual valor da nota:'))\n",
        "\n",
        "media_dis = ( disciplina_1 + disciplina_2) / 2\n",
        "\n",
        "if media_dis >= 9.0:\n",
        "  print(f'Média do Aluno foi:', media_dis)\n",
        "  print(f'Conceito: A')\n",
        "  print(f'Aprovado')\n",
        "\n",
        "elif media_dis >= 7.5:\n",
        "  print(f'Média do Aluno foi:', media_dis)\n",
        "  print(f'Conceito: B')\n",
        "  print(f'Aprovado')\n",
        "\n",
        "elif media_dis >= 6.0:\n",
        "  print(f'Média do Aluno foi:', media_dis)\n",
        "  print(f'Conceito: C')\n",
        "  print(f'Aprovado')\n",
        "\n",
        "elif media_dis >= 4.0:\n",
        "  print(f'Média do Aluno foi:', media_dis)\n",
        "  print(f'Conceito: D')\n",
        "  print(f'Recuperação')\n",
        "\n",
        "elif media_dis < 4 :\n",
        "  print(f'Média do Aluno foi:', media_dis)\n",
        "  print(f'Conceito: E')\n",
        "  print(f'Reprovado')"
      ],
      "execution_count": null,
      "outputs": [
        {
          "output_type": "stream",
          "name": "stdout",
          "text": [
            "Qual valor da nota:5\n",
            "Qual valor da nota:5\n",
            "Média do Aluno foi: 5.0\n",
            "Conceito: D\n",
            "Recuperação\n"
          ]
        }
      ]
    },
    {
      "cell_type": "markdown",
      "metadata": {
        "id": "ZqtiCWWEapXg"
      },
      "source": [
        "## Exercício 15"
      ]
    },
    {
      "cell_type": "markdown",
      "metadata": {
        "id": "dZpJ3QVIazpj"
      },
      "source": [
        "### Faça um Programa que peça os 3 lados de um triângulo. O programa deverá informar se os valores podem ser um triângulo. Indique, caso os lados formem um triângulo, se o mesmo é: equilátero, isósceles ou escaleno.\n",
        "Dicas:\n",
        "\n",
        "Três lados formam um triângulo quando a soma de quaisquer dois lados for maior que o terceiro;\n",
        "\n",
        "Triângulo Equilátero: três lados iguais;\n",
        "\n",
        "Triângulo Isósceles: quaisquer dois lados iguais;\n",
        "\n",
        "Triângulo Escaleno: três lados diferentes;"
      ]
    },
    {
      "cell_type": "code",
      "metadata": {
        "id": "4vpcnEx9a_Zf",
        "colab": {
          "base_uri": "https://localhost:8080/"
        },
        "outputId": "95d30fae-3eee-4e93-9347-18108e217ef7"
      },
      "source": [
        "lado1 = float(input(f'Digite um valor para o triângulo: '))\n",
        "lado2 = float(input(f'Digite um valor para o triângulo: '))\n",
        "lado3 = float(input(f'Digite um valor para o triângulo: '))\n",
        "\n",
        "##triangulo\n",
        "if lado1 > lado2 + lado3 or lado2 > lado1 + lado3 or lado3 > lado2 + lado1:\n",
        "  print(f'Triângulo')\n",
        "\n",
        "##Equilatero\n",
        "elif lado1 == lado2 == lado3:\n",
        "  print(f'Equilátero')\n",
        "\n",
        "##Isósceles\n",
        "elif lado1 == lado2 or lado1 == lado3 or lado2 == lado3:\n",
        "  print(f'Isósceleso')\n",
        "\n",
        "else:\n",
        "  print(f'Escaleno')\n",
        "\n",
        "\n",
        "\n",
        "\n"
      ],
      "execution_count": null,
      "outputs": [
        {
          "output_type": "stream",
          "name": "stdout",
          "text": [
            "Digite um valor para o triângulo: 4\n",
            "Digite um valor para o triângulo: 7\n",
            "Digite um valor para o triângulo: 9\n",
            "Escaleno\n"
          ]
        }
      ]
    },
    {
      "cell_type": "markdown",
      "metadata": {
        "id": "vEOMcVw_3EuE"
      },
      "source": [
        "## Exercício 16"
      ]
    },
    {
      "cell_type": "markdown",
      "metadata": {
        "id": "H_Mdz9YR3JDj"
      },
      "source": [
        "### Faça um programa que calcule as raízes de uma equação do segundo grau, na forma ax2 + bx + c. O programa deverá pedir os valores de a, b e c e fazer as consistências, informando ao usuário nas seguintes situações:\n",
        "Se o usuário informar o valor de A igual a zero, a equação não é do segundo grau e o programa não deve fazer pedir os demais valores, sendo encerrado;\n",
        "\n",
        "Se o delta calculado for negativo, a equação não possui raizes reais. Informe ao usuário e encerre o programa;\n",
        "\n",
        "Se o delta calculado for igual a zero a equação possui apenas uma raiz real; informe-a ao usuário;\n",
        "\n",
        "Se o delta for positivo, a equação possui duas raiz reais; informe-as ao usuário;"
      ]
    },
    {
      "cell_type": "code",
      "metadata": {
        "id": "XH1ZkHca348v",
        "colab": {
          "base_uri": "https://localhost:8080/"
        },
        "outputId": "2fb4912a-abfe-4b97-e384-fc86a8db24c1"
      },
      "source": [
        "import math\n",
        "\n",
        "print(f'Equação do 2° Grau: ax² + bx + c')\n",
        "valor_a = float(input(f'Digite o valor de A: '))\n",
        "valor_b = float(input(f'Digite o valor de B: '))\n",
        "valor_c = float(input(f'Digite o valor de C: '))\n",
        "\n",
        "delta = valor_b **2 - 4 * valor_a * valor_c\n",
        "x1 = (-valor_b + delta**0.5) / 2.0 * valor_a\n",
        "x2 = (-valor_b - delta**0.5) / 2.0 * valor_a\n",
        "\n",
        "if valor_a == 0:\n",
        "  if valor_a == 0:\n",
        "   print(f'A Equação não é do 2° Grau! Finalizado a Equação')\n",
        "\n",
        "  else:\n",
        "   print( valor_a + x1**2 + valor_b * x1 + valor_c)\n",
        "   print( valor_a + x2**2 + valor_b * x2 + valor_c)\n",
        "\n",
        "elif delta < 0:\n",
        " print( valor_a + x1**2 + valor_b * x1 + valor_c)\n",
        " print( valor_a + x2**2 + valor_b * x2 + valor_c)\n",
        " print(f'A Equação não possui raizes reais')\n",
        "\n",
        "elif delta == 0:\n",
        " print( valor_a + x1**2 + valor_b * x1 + valor_c)\n",
        " print( valor_a + x2**2 + valor_b * x2 + valor_c)\n",
        " print(f'A Equação possui um raiz real')\n",
        "\n",
        "elif delta > 0:\n",
        " print( valor_a + x1**2 + valor_b * x1 + valor_c)\n",
        " print( valor_a + x2**2 + valor_b * x2 + valor_c)\n",
        " print(f'A Equação possui duas  raizes reais')\n",
        "\n",
        "\n",
        "## valor de delta é: b ** 2 - 4 * a * c \\\\ valor de x é: -b + or - raiz quadrada de delta\n",
        "\n",
        "\n",
        "\n",
        "\n"
      ],
      "execution_count": null,
      "outputs": [
        {
          "output_type": "stream",
          "name": "stdout",
          "text": [
            "Equação do 2° Grau: ax² + bx + c\n",
            "Digite o valor de A: 5\n",
            "Digite o valor de B: 5\n",
            "Digite o valor de C: 5\n",
            "(-365.00000000000017-433.0127018922193j)\n",
            "(-365.00000000000006+433.0127018922194j)\n",
            "A Equação não possui raizes reais\n"
          ]
        }
      ]
    },
    {
      "cell_type": "markdown",
      "metadata": {
        "id": "5lNL3ABMnkUm"
      },
      "source": [
        "## Exercício 17"
      ]
    },
    {
      "cell_type": "markdown",
      "metadata": {
        "id": "94JoAIfdnoCo"
      },
      "source": [
        "### Faça um Programa que peça um número correspondente a um determinado ano e em seguida informe se este ano é ou não bissexto."
      ]
    },
    {
      "cell_type": "code",
      "metadata": {
        "id": "HxTSeEpVnzdI",
        "colab": {
          "base_uri": "https://localhost:8080/"
        },
        "outputId": "0778774f-b78e-4f0f-be1e-a539ececc16b"
      },
      "source": [
        "ano_bissexto = int(input(f'Digite um ano: '))\n",
        "\n",
        "if ano_bissexto % 4 == 0 and ano_bissexto != 100 == 0 or ano_bissexto % 400 == 0:\n",
        "  print(f'{ano_bissexto} é um ano Bissexto!')\n",
        "else:\n",
        "  print(f'{ano_bissexto} não é um ano Bissexto!')"
      ],
      "execution_count": null,
      "outputs": [
        {
          "output_type": "stream",
          "name": "stdout",
          "text": [
            "Digite um ano: 1900\n",
            "1900 não é um ano Bissexto!\n"
          ]
        }
      ]
    },
    {
      "cell_type": "markdown",
      "metadata": {
        "id": "UlstZg2qn11c"
      },
      "source": [
        "## Exercício 18"
      ]
    },
    {
      "cell_type": "markdown",
      "metadata": {
        "id": "sxbMXp1Kn4hW"
      },
      "source": [
        "### Faça um Programa que peça uma data no formato dd/mm/aaaa e determine se a mesma é uma data válida."
      ]
    },
    {
      "cell_type": "code",
      "metadata": {
        "id": "ptxZqjzWn-rP",
        "colab": {
          "base_uri": "https://localhost:8080/"
        },
        "outputId": "ad9e1aa5-b8b5-4fb1-f541-c175e9168b9e"
      },
      "source": [
        "dia = int(input(f'Escolha o dia: ')) \n",
        "mes = int(input(f'Escolha o mês: '))\n",
        "ano = int(input(f'Escolha o ano: '))\n",
        "\n",
        "if dia >= 32:\n",
        " if dia == 32:\n",
        "   print(f'{dia} Dia Inválido')\n",
        " else:\n",
        "   print(f'{dia} / {mes} / {ano}')\n",
        "\n",
        "elif mes >= 13:\n",
        "  if mes == 13:\n",
        "    print(f'{mes} Mês Inválido')\n",
        "  else:\n",
        "    print(f'{dia} / {mes} / {ano}')\n",
        "\n",
        "if mes == 2:\n",
        "  if dia >= 30:\n",
        "    print(f'{dia} não é Inválido para o Mês requerido!')\n",
        "  else:\n",
        "    print(f'{dia} / {mes} / {ano}')\n",
        "\n",
        "print(f'Data:  {dia} / {mes} / {ano}')\n",
        "\n",
        "if ano % 4 == 0 and ano % 100 != 0 or ano % 400 == 0:\n",
        "  print(f'OBS: O ano {ano} é bissexto!')\n",
        "else:\n",
        "  print(f'OBS: O ano {ano} não é bissexto!')"
      ],
      "execution_count": null,
      "outputs": [
        {
          "output_type": "stream",
          "name": "stdout",
          "text": [
            "Escolha o dia: 12\n",
            "Escolha o mês: 12\n",
            "Escolha o ano: 1212\n",
            "Data:  12 / 12 / 1212\n",
            "OBS: O ano 1212 é bissexto!\n"
          ]
        }
      ]
    },
    {
      "cell_type": "markdown",
      "metadata": {
        "id": "2UwodjHBoLs-"
      },
      "source": [
        "## Exercício 19"
      ]
    },
    {
      "cell_type": "markdown",
      "metadata": {
        "id": "LVQbTgDkn_t5"
      },
      "source": [
        "### Faça um Programa que leia um número inteiro menor que 1000 e imprima a quantidade de centenas, dezenas e unidades do mesmo.:\n",
        "Observando os termos no plural a colocação do \"e\", da vírgula entre outros. Exemplo:\n",
        "326 = 3 centenas, 2 dezenas e 6 unidades\n",
        "12 = 1 dezena e 2 unidades Testar com: 326, 300, 100, 320, 310,305, 301, 101, 311, 111, 25, 20, 10, 21, 11, 1, 7 e 16"
      ]
    },
    {
      "cell_type": "code",
      "metadata": {
        "id": "oJrRvxCMoJMd",
        "colab": {
          "base_uri": "https://localhost:8080/"
        },
        "outputId": "5f631a5e-41e2-4bf6-d696-0154cd25d32c"
      },
      "source": [
        "numero_inteiro = int(input('Digite um Número: '))\n",
        "\n",
        "centenas_str = dezenas_str = unidades_str = ''\n",
        "centenas_int, numero_inteiro = divmod(numero_inteiro, 100)\n",
        "\n",
        "partes_numericas = 0\n",
        "\n",
        "if centenas_int == 1:\n",
        "  centenas_str = f'1 centena'\n",
        "  partes_numericas += 1\n",
        "elif centenas_int > 1:\n",
        "  centenas_str = f'{centenas_int} centenas'\n",
        "  partes_numericas += 1\n",
        "\n",
        "dezenas_int, numero_inteiro = divmod(numero_inteiro, 10)\n",
        "\n",
        "if dezenas_int == 1:\n",
        "  dezenas_str = f'1 dezena'\n",
        "  partes_numericas += 1\n",
        "elif dezenas_int > 1:\n",
        "  dezenas_str = f'{dezenas_int} dezenas'\n",
        "  partes_numericas += 1\n",
        "\n",
        "if numero_inteiro == 1:\n",
        "  unidades_str = f'1 unidade'\n",
        "  partes_numericas += 1\n",
        "elif numero_inteiro > 1:\n",
        "  unidades_str = f'{numero_inteiro} unidades'\n",
        "  partes_numericas += 1\n",
        "\n",
        "if partes_numericas == 3:\n",
        "  print(f'{centenas_str}, {dezenas_str} e {unidades_str} ')\n",
        "\n",
        "if partes_numericas == 1:\n",
        "  print(centenas_str + dezenas_str + unidades_str)\n",
        "\n",
        "if partes_numericas == 2:\n",
        "  if centenas_str != '':\n",
        "    segunda_parte = (dezenas_str + unidades_str)  \n",
        "    print(f'{centenas_str} e {segunda_parte}')\n",
        "  else:\n",
        "    print(f'{dezenas_str} e {unidades_str}')\n"
      ],
      "execution_count": null,
      "outputs": [
        {
          "output_type": "stream",
          "name": "stdout",
          "text": [
            "Digite um Número: 709\n",
            "7 centenas e 9 unidades\n"
          ]
        }
      ]
    },
    {
      "cell_type": "markdown",
      "metadata": {
        "id": "vjzI6v4boTWL"
      },
      "source": [
        "## Exercício 20"
      ]
    },
    {
      "cell_type": "markdown",
      "metadata": {
        "id": "iCcsdM3eoVok"
      },
      "source": [
        "### Faça um Programa para leitura de três notas parciais de um aluno. O programa deve calcular a média alcançada por aluno e presentar:\n",
        "A mensagem \"Aprovado\", se a média for maior ou igual a 7, com a respectiva média alcançada;\n",
        "\n",
        "A mensagem \"Reprovado\", se a média for menor do que 7, com a respectiva média alcançada;\n",
        "\n",
        "A mensagem \"Aprovado com Distinção\", se a média for igual a 10."
      ]
    },
    {
      "cell_type": "code",
      "metadata": {
        "colab": {
          "base_uri": "https://localhost:8080/"
        },
        "id": "ouvvo2173pKx",
        "outputId": "30774e10-76a3-4d62-8e78-589dd5f143b1"
      },
      "source": [
        "primeira_nota = float(input('1° nota: '))\n",
        "segunda_nota = float(input('2° nota: '))\n",
        "terceira_nota = float(input('3° nota: '))\n",
        "\n",
        "media_notas = (primeira_nota + segunda_nota + terceira_nota) // 3\n",
        "\n",
        "print(f'Média final do Aluno: {media_notas}')\n",
        "\n",
        "if media_notas == 10:\n",
        "  print(f'Aprovado com Destinção')\n",
        "\n",
        "elif media_notas > 6:\n",
        "  print(f'Aprovado')\n",
        "\n",
        "elif media_notas > 5:\n",
        "  print(f'Recuperação')\n",
        "\n",
        "elif media_notas <= 5:\n",
        "  print(f'Reprovado')"
      ],
      "execution_count": null,
      "outputs": [
        {
          "output_type": "stream",
          "name": "stdout",
          "text": [
            "1° nota: 5\n",
            "2° nota: 5\n",
            "3° nota: 5\n",
            "Média final do Aluno: 5.0\n",
            "Reprovado\n"
          ]
        }
      ]
    },
    {
      "cell_type": "markdown",
      "metadata": {
        "id": "1FyKSRgN3eZY"
      },
      "source": [
        "## Exercício 21"
      ]
    },
    {
      "cell_type": "markdown",
      "metadata": {
        "id": "JH2l07Qg3hRr"
      },
      "source": [
        "### Faça um Programa para um caixa eletrônico. O programa deverá perguntar ao usuário a valor do saque e depois informar quantas notas de cada valor serão fornecidas. As notas disponíveis serão as de 1, 5, 10, 50 e 100 reais. O valor mínimo é de 10 reais e o máximo de 600 reais. O programa não deve se preocupar com a quantidade de notas existentes na máquina.\n",
        "Exemplo 1: Para sacar a quantia de 256 reais, o programa fornece duas notas de 100, uma nota de 50, uma nota de 5 e uma nota de 1;\n",
        "\n",
        "Exemplo 2: Para sacar a quantia de 399 reais, o programa fornece três notas de 100, uma nota de 50, quatro notas de 10, uma nota de 5 e quatro notas de 1."
      ]
    },
    {
      "cell_type": "code",
      "metadata": {
        "colab": {
          "base_uri": "https://localhost:8080/"
        },
        "id": "CxQPeCM83myu",
        "outputId": "9bde3c05-8e93-4c5f-f680-5bc71864b919"
      },
      "source": [
        "print('Caixa DevPro')\n",
        "valor_saque = int(input('Valor a ser sacado: '))\n",
        "nota_cem = nota_de_cinquenta = nota_de_dez = nota_de_cinco = nota_de_um = 0\n",
        "\n",
        "nota_de_cem, valor_saque = divmod(valor_saque, 100)\n",
        "if nota_de_cem < 1:\n",
        "  nota_de_cem = ''\n",
        "elif nota_de_cem == 1:\n",
        "  print(f'{nota_de_cem} nota de 100')\n",
        "else:\n",
        "  print(f'{nota_de_cem} notas de 100')\n",
        "\n",
        "nota_de_cinquenta, valor_saque = divmod(valor_saque, 50)\n",
        "if nota_de_cinquenta < 1:\n",
        "  nota_de_cinquenta = ''\n",
        "elif nota_de_cinquenta == 1:\n",
        "  print(f'{nota_de_cinquenta} nota de 50')\n",
        "else:\n",
        "  print(f'{nota_de_cinquenta} notas de 50')\n",
        "\n",
        "nota_de_dez, valor_saque = divmod(valor_saque, 10)\n",
        "if nota_de_dez < 1:\n",
        "  nota_de_dez = ''\n",
        "elif nota_de_dez == 1:\n",
        "  print(f'{nota_de_dez} nota de 10')\n",
        "else:\n",
        "  print(f'{nota_de_dez} notas de 10')\n",
        "\n",
        "nota_de_cinco, valor_saque = divmod(valor_saque, 5)\n",
        "if nota_de_cinco < 1:\n",
        "  nota_de_cinco = ''\n",
        "elif nota_de_cinco == 1:\n",
        "  print(f'{nota_de_cinco} nota de 5')\n",
        "else:\n",
        "  print(f'{nota_de_cinco} notas de 5')\n",
        "\n",
        "nota_de_um, valor_saque = divmod(valor_saque, 1)\n",
        "if nota_de_um < 1:\n",
        "  nota_de_um = ''\n",
        "elif nota_de_um == 1:\n",
        "  print(f'{nota_de_um} nota de 1')\n",
        "else:\n",
        "  print(f'{nota_de_um} notas de 1')\n",
        "\n"
      ],
      "execution_count": null,
      "outputs": [
        {
          "output_type": "stream",
          "name": "stdout",
          "text": [
            "Caixa DevPro\n",
            "Valor a ser sacado: 80\n",
            "1 nota de 50\n",
            "3 notas de 10\n"
          ]
        }
      ]
    },
    {
      "cell_type": "markdown",
      "source": [
        "## Exercício 22"
      ],
      "metadata": {
        "id": "p0jKTip_Ogmj"
      }
    },
    {
      "cell_type": "markdown",
      "source": [
        "### Faça um Programa que peça um número inteiro e determine se ele é par ou impar. \n",
        "Dica: utilize o operador módulo (resto da divisão)."
      ],
      "metadata": {
        "id": "ldos493tOiCB"
      }
    },
    {
      "cell_type": "code",
      "source": [
        "par_ou_impar = int(input('Digite um número: '))\n",
        "\n",
        "if (par_ou_impar % 2) == 0:\n",
        "  print(f'{par_ou_impar} é um número PAR')\n",
        "else:\n",
        "  print(f'{par_ou_impar} é um número IMPAR')"
      ],
      "metadata": {
        "id": "n63zzyLVOpDv",
        "colab": {
          "base_uri": "https://localhost:8080/"
        },
        "outputId": "ac363bcb-1270-43e5-af15-fdf9cac80354"
      },
      "execution_count": null,
      "outputs": [
        {
          "output_type": "stream",
          "name": "stdout",
          "text": [
            "Digite um número: 69876\n",
            "69876 é um número PAR\n"
          ]
        }
      ]
    },
    {
      "cell_type": "markdown",
      "source": [
        "## Exercício 23"
      ],
      "metadata": {
        "id": "qykHunMUOqCL"
      }
    },
    {
      "cell_type": "markdown",
      "source": [
        "### Faça um Programa que peça um número e informe se o número é inteiro ou decimal. \n",
        "Dica: utilize uma função de arredondamento."
      ],
      "metadata": {
        "id": "OIgBLs86OvPA"
      }
    },
    {
      "cell_type": "code",
      "source": [
        "import math\n",
        "inteiro_ou_decimal = float(input('Digite um número: '))\n",
        "\n",
        "if inteiro_ou_decimal == round(inteiro_ou_decimal):\n",
        "  print(f'{int(inteiro_ou_decimal)} é um número inteiro')\n",
        "else:\n",
        "  print(f'{inteiro_ou_decimal} é um número decimal')"
      ],
      "metadata": {
        "id": "A9jgDAQMO0Y_",
        "colab": {
          "base_uri": "https://localhost:8080/"
        },
        "outputId": "988ca895-b48a-48c0-fd59-01998cd09b8c"
      },
      "execution_count": null,
      "outputs": [
        {
          "output_type": "stream",
          "name": "stdout",
          "text": [
            "Digite um número: 4555565555.7\n",
            "4555565555.7 é um número decimal\n"
          ]
        }
      ]
    },
    {
      "cell_type": "markdown",
      "source": [
        "## Exercício 24"
      ],
      "metadata": {
        "id": "QdsulitiO1Uk"
      }
    },
    {
      "cell_type": "markdown",
      "source": [
        "### Faça um Programa que leia 2 números e em seguida pergunte ao usuário qual operação ele deseja realizar. O resultado da operação deve ser acompanhado de uma frase que diga se o número é:\n",
        "\n",
        "A) par ou ímpar;\n",
        "\n",
        "B) positivo ou negativo;\n",
        "\n",
        "C) inteiro ou decimal."
      ],
      "metadata": {
        "id": "pMsrTrq8O7sy"
      }
    },
    {
      "cell_type": "code",
      "source": [
        "primeiro_valor = float(input('Digite o 1° número: '))\n",
        "segundo_valor = float(input('Digite o 2° número: '))\n",
        "\n",
        "print('Escolha a operação que deseja realizar \"S\" para somar \"SB\" para subtrair \"D\" para dividir e \"M\" para multiplicar ')\n",
        "\n",
        "operacao = input('Digite qual operação será realizada: ').upper()\n",
        "resultado_valores = 0\n",
        "par_impar = ''\n",
        "inteiro_decimal = ''\n",
        "positivo_negativo = ''\n",
        "\n",
        "if operacao == 'S':  \n",
        "  resultado_valores = primeiro_valor + segundo_valor\n",
        "  print(f'Os valores serão somados')\n",
        "if operacao == 'SB':\n",
        "  resultado_valores = primeiro_valor - segundo_valor\n",
        "  print(f'Os valores serão subtraídos')\n",
        "if operacao == 'D':\n",
        "  resultado_valores = primeiro_valor // segundo_valor\n",
        "  print(f'Os valores serão divididos')\n",
        "if operacao == 'M':\n",
        "  resultado_valores = primeiro_valor * segundo_valor\n",
        "  print(f'Os valores serão multiplicados')\n",
        "\n",
        "if resultado_valores % 2 == 0:\n",
        "  par_impar = 'PAR'\n",
        "else:\n",
        "  par_impar = 'IMPAR'\n",
        "\n",
        "if resultado_valores > 0:\n",
        "  positivo_negativo = 'Positivo'\n",
        "else:\n",
        "  positivo_negativo = 'Negativo'\n",
        "\n",
        "if resultado_valores == round(resultado_valores):\n",
        "  inteiro_decimal = 'Inteiro'\n",
        "  resultado_valores = int(resultado_valores)\n",
        "else:\n",
        "  inteiro_decimal = 'Decimal'8\n",
        "\n",
        "print(f'Resultado: {resultado_valores}')\n",
        "print(f'Seu valor deu {positivo_negativo}')\n",
        "print(f'{resultado_valores} é um número {par_impar}')\n",
        "print(f'{resultado_valores} é um número {inteiro_decimal}')\n",
        "\n",
        "\n",
        "\n"
      ],
      "metadata": {
        "id": "ZZG5DlvfPEjS",
        "colab": {
          "base_uri": "https://localhost:8080/"
        },
        "outputId": "4bd28606-0dd7-4528-f108-68c9896513ac"
      },
      "execution_count": null,
      "outputs": [
        {
          "output_type": "stream",
          "name": "stdout",
          "text": [
            "Digite o 1° número: 67\n",
            "Digite o 2° número: 7\n",
            "Escolha a operação que deseja realizar \"S\" para somar \"SB\" para subtrair \"D\" para dividir e \"M\" para multiplicar \n",
            "Digite qual operação será realizada: s\n",
            "Os valores serão somados\n",
            "Resultado: 74\n",
            "Seu valor deu Positivo\n",
            "74 é um número PAR\n",
            "74 é um número Inteiro\n"
          ]
        }
      ]
    },
    {
      "cell_type": "markdown",
      "source": [
        "## Exercício 25"
      ],
      "metadata": {
        "id": "I0HFDQkrPFJf"
      }
    },
    {
      "cell_type": "markdown",
      "source": [
        "### Faça um programa que faça 5 perguntas para uma pessoa sobre um crime. As perguntas são:\n",
        "\n",
        "\"Telefonou para a vítima?\"\n",
        "\n",
        "\"Esteve no local do crime?\"\n",
        "\n",
        "\"Mora perto da vítima?\"\n",
        "\n",
        "\"Devia para a vítima?\"\n",
        "\n",
        "\"Já trabalhou com a vítima?\"\n",
        "\n",
        " O programa deve no final emitir uma classificação sobre a participação da pessoa no crime. Se a pessoa responder positivamente a 2 questões ela deve ser classificada como \"Suspeita\", entre 3 e 4 como \"Cúmplice\" e 5 como \"Assassino\". Caso contrário, ele será classificado como \"Inocente\"."
      ],
      "metadata": {
        "id": "Uz2EXRk_PHu3"
      }
    },
    {
      "cell_type": "code",
      "source": [
        "print('<< Interrogatório >> ')\n",
        "print()\n",
        "pergunta_1 = input('Telefonou para vítima? ').upper()\n",
        "pergunta_2 = input('Esteve no local do crime? ').upper()\n",
        "pergunta_3 = input('Mora perto da vítima? ').upper()\n",
        "pergunta_4 = input('Devia para a vítima? ').upper()\n",
        "pergunta_5 = input('Já trabalhou com a vítima? ').upper()\n",
        "print()\n",
        "\n",
        "resposta = 0\n",
        "\n",
        "if pergunta_1 == 'SIM' or pergunta_1 == 'S':\n",
        "  resposta += 1\n",
        "\n",
        "if pergunta_2 == 'SIM' or pergunta_2 == 'S':\n",
        "  resposta += 1\n",
        "\n",
        "if pergunta_3 == 'SIM' or pergunta_3 == 'S':\n",
        "  resposta += 1\n",
        "\n",
        "if pergunta_4 == 'SIM' or pergunta_4 == 'S':\n",
        "  resposta += 1\n",
        "  \n",
        "if pergunta_5 == 'SIM' or pergunta_5 == 'S':\n",
        "  resposta += 1\n",
        "\n",
        "print(f'A investigação acabou:')\n",
        "print()\n",
        "if resposta >= 5:\n",
        "  print(f'Você é o Assassino do crime')\n",
        "\n",
        "elif resposta >= 3:\n",
        "  print(f'Você foi Cúmplice no crime')\n",
        "\n",
        "elif resposta >= 1:\n",
        "  print(f'Você é Suspeito pelo crime ')\n",
        "\n",
        "elif resposta == 0:\n",
        "  print(f'Você é inocente no crime')\n"
      ],
      "metadata": {
        "id": "0B4cmrelPY0R",
        "colab": {
          "base_uri": "https://localhost:8080/"
        },
        "outputId": "fafe3455-4b24-4c7a-9e3d-ade909feac01"
      },
      "execution_count": null,
      "outputs": [
        {
          "output_type": "stream",
          "name": "stdout",
          "text": [
            "<< Interrogatório >> \n",
            "\n",
            "Telefonou para vítima? s\n",
            "Esteve no local do crime? n\n",
            "Mora perto da vítima? n\n",
            "Devia para a vítima? n\n",
            "Já trabalhou com a vítima? n\n",
            "\n",
            "A investigação acabou:\n",
            "\n",
            "Você é Suspeito pelo crime \n"
          ]
        }
      ]
    },
    {
      "cell_type": "markdown",
      "source": [
        "## Exercício 26"
      ],
      "metadata": {
        "id": "qW0lo3tUPZYT"
      }
    },
    {
      "cell_type": "markdown",
      "source": [
        "### Um posto está vendendo combustíveis com a seguinte tabela de descontos:\n",
        "\n",
        "Álcool:\n",
        "\n",
        "até 20 litros, desconto de 3% por litro\n",
        "\n",
        "acima de 20 litros, desconto de 5% por litro\n",
        "\n",
        "Gasolina:\n",
        "\n",
        "até 20 litros, desconto de 4% por litro\n",
        "\n",
        "acima de 20 litros, desconto de 6% por litro\n",
        "\n",
        " Escreva um algoritmo que leia o número de litros vendidos, o tipo de combustível (codificado da seguinte forma: A-álcool, G-gasolina) \n",
        " \n",
        " Calcule e imprima o valor a ser pago pelo cliente sabendo-se que o preço do litro da gasolina é R$ 2,50 o preço do litro do álcool é RS 1,90."
      ],
      "metadata": {
        "id": "ESCo_T2ZPb8t"
      }
    },
    {
      "cell_type": "code",
      "source": [
        "print('Posto quero barato')\n",
        "print()\n",
        "combustivel = input('Qual combustível você vai querer: A - álcool, G - gasolina: ').upper()\n",
        "litros_combustivel = float(input('Quantos litros você vai querer: '))\n",
        "\n",
        "alcool = 1.90\n",
        "litros_por_alcool = litros_combustivel * alcool\n",
        "alcool_abaixo_20 = litros_por_alcool * 0.03\n",
        "desconto_alcool_abaixo_20 = litros_por_alcool - alcool_abaixo_20\n",
        "alcool_acima_20 = litros_por_alcool * 0.05\n",
        "desconto_alcool_acima_20 = litros_por_alcool - alcool_acima_20\n",
        "\n",
        "gasolina = 2.50\n",
        "litros_por_gasolina = litros_combustivel * gasolina\n",
        "gasolina_abaixo_20 = litros_por_gasolina * 0.04\n",
        "desconto_gasolina_abaixo_20 = litros_por_gasolina - gasolina_abaixo_20\n",
        "gasolina_acima_20 = litros_por_gasolina * 0.06\n",
        "desconto_gasolina_acima_20 = litros_por_gasolina - gasolina_acima_20\n",
        "\n",
        "print()\n",
        "\n",
        "if combustivel == \"GASOLINA\" or combustivel == 'G':\n",
        "  if litros_combustivel > 20:\n",
        "    print(f'Combustível: Gasolina')\n",
        "    print(f'Quantidade: {litros_combustivel} litro(s)')\n",
        "    print(f'Total: R$ {litros_por_gasolina}')\n",
        "    print(f'Desconto: R$ {gasolina_acima_20}')\n",
        "    print(f'Total: R$ {desconto_gasolina_acima_20}')\n",
        "  else:\n",
        "    print(f'Combustível: Gasolina')\n",
        "    print(f'Quantidade: {litros_combustivel} litro(s)')\n",
        "    print(f'Total: R$ {litros_por_gasolina}')\n",
        "    print(f'Desconto: R$ {gasolina_abaixo_20}')\n",
        "    print(f'Total: R$ {desconto_gasolina_abaixo_20}')\n",
        "\n",
        "if combustivel == 'ALCOOL' or combustivel == 'ÁLCOOL' or combustivel == 'A':\n",
        "  if litros_combustivel > 20:\n",
        "    print(f'Combutível: Álcool')\n",
        "    print(f'Quantidade: {litros_combustivel} litros(s)')\n",
        "    print(f'Total: R$ {litros_por_alcool}')\n",
        "    print(f'Desconto: R$ {alcool_acima_20}')\n",
        "    print(f'Total: R$ {desconto_alcool_acima_20}')\n",
        "  else:\n",
        "    print(f'Combutível: Álcool')\n",
        "    print(f'Quantidade: {litros_combustivel} litros(s)')\n",
        "    print(f'Total: R$ {litros_por_alcool}')\n",
        "    print(f'Desconto: R$ {alcool_abaixo_20}')\n",
        "    print(f'Total: R$ {desconto_alcool_abaixo_20}')\n"
      ],
      "metadata": {
        "id": "9pnKYRX8QEKX",
        "colab": {
          "base_uri": "https://localhost:8080/"
        },
        "outputId": "32102ec9-7467-479f-beee-128408cf1e81"
      },
      "execution_count": null,
      "outputs": [
        {
          "output_type": "stream",
          "name": "stdout",
          "text": [
            "Posto quero barato\n",
            "\n",
            "Qual combustível você vai querer: A - álcool, G - gasolina: g\n",
            "Quantos litros você vai querer: 21\n",
            "\n",
            "Combustível: Gasolina\n",
            "Quantidade: 21.0 litro(s)\n",
            "Total: R$ 52.5\n",
            "Desconto: R$ 3.15\n",
            "Total: R$ 49.35\n"
          ]
        }
      ]
    },
    {
      "cell_type": "markdown",
      "source": [
        "## Exercício 27"
      ],
      "metadata": {
        "id": "noj_LK5oQEji"
      }
    },
    {
      "cell_type": "markdown",
      "source": [
        "### Uma fruteira está vendendo frutas com a seguinte tabela de preços:\n",
        "\n",
        "          Até 5 Kg           Acima de 5 Kg\n",
        "Morango  RS 2,50 por Kg RS 2,20 por Kg\n",
        "\n",
        "Maçã   RS 1,80 por Kg          RS 1,50 por Kg\n",
        "\n",
        "Se o cliente comprar mais de 8 Kg em frutas ou o valor total da compra ultrapassar R$ 25,00, receberá ainda um desconto de 10% sobre este total. \n",
        "\n",
        "Escreva um algoritmo para ler a quantidade (em Kg) de morangos e a quantidade (em Kg) de maças adquiridas e escreva o valor a ser pago pelo cliente."
      ],
      "metadata": {
        "id": "Z5j9McT3QIfT"
      }
    },
    {
      "cell_type": "code",
      "source": [
        "print(\"Xepa dos Dev's\")\n",
        "\n",
        "nome_fruta = input('Qual fruta você vai querer: Morango ou Maça: ').upper()\n",
        "kilo_fruta = float(input('Quantos kilo você vai querer: '))\n",
        "print()\n",
        "#morango\n",
        "morango_abaixo_5kg = 2.50\n",
        "valor_morango_abaixo_5kg = morango_abaixo_5kg * kilo_fruta\n",
        "\n",
        "morango_acima_5kg = 2.20\n",
        "valor_morango_acima_5kg = morango_acima_5kg * kilo_fruta\n",
        "\n",
        "morango_acima_8kg = valor_morango_acima_5kg * 1.10\n",
        "valor_desconto_morango_8kg = morango_acima_8kg - valor_morango_acima_5kg \n",
        "valor_total_morango = valor_morango_acima_5kg - valor_desconto_morango_8kg\n",
        "\n",
        "#maça\n",
        "maça_abaixo_5kg = 1.80\n",
        "valor_maça_abaixo_5kg = kilo_fruta * maça_abaixo_5kg\n",
        "\n",
        "maça_acima_5kg = 1.50\n",
        "valor_maça_acima_5kg = kilo_fruta * maça_acima_5kg\n",
        "\n",
        "maça_acima_8kg = valor_maça_acima_5kg * 1.10\n",
        "valor_desconto_maça_8kg = maça_acima_8kg - valor_maça_acima_5kg\n",
        "valor_total_maça = valor_maça_acima_5kg - valor_desconto_maça_8kg\n",
        "\n",
        "if nome_fruta == 'MORANGO':\n",
        "  if kilo_fruta < 5:\n",
        "    print(f'Fruta: Morango')\n",
        "    print(f'Valor: R$ {valor_morango_abaixo_5kg}')\n",
        "  elif kilo_fruta < 8:\n",
        "    print(f'Fruta: Morango')\n",
        "    print(f'Valor: R$ {valor_morango_acima_5kg}')\n",
        "  elif kilo_fruta >8:\n",
        "    print(f'Fruta: Morango')\n",
        "    print(f'Valor: R$ {valor_morango_acima_5kg:.2f}')\n",
        "    print(f'Desconto: R$ {valor_desconto_morango_8kg:.2f}')\n",
        "    print(f'Valor Final: R$ {valor_total_morango:.2f}')\n",
        "\n",
        "if nome_fruta == 'MAÇA':\n",
        "  if kilo_fruta < 5:\n",
        "    print(f'Fruta: Maça')\n",
        "    print(f'Valor: R$ {valor_maça_abaixo_5kg}')\n",
        "  elif kilo_fruta < 8:\n",
        "    print(f'Fruta: Maça')\n",
        "    print(f'Valor: R$ {valor_maça_acima_5kg}')\n",
        "  elif kilo_fruta >= 8:\n",
        "    print(f'Fruta: Maça')\n",
        "    print(f'Valor: R$ {maça_acima_8kg:.2f}')\n",
        "    print(f'Desconto: R$ {valor_desconto_maça_8kg:.2f}')\n",
        "    print(f'Valor Final: R$ {valor_total_maça:.2f}')\n",
        "\n",
        "# para ultrapassar o valor de R$ 25,00 o kilo da fruta já bateu mais de 8, considerando assim o desconto de 10% "
      ],
      "metadata": {
        "id": "i5wjgiZvRf4q",
        "colab": {
          "base_uri": "https://localhost:8080/"
        },
        "outputId": "ddc2cd3b-c5b7-4379-9db1-822603bc37ef"
      },
      "execution_count": 31,
      "outputs": [
        {
          "output_type": "stream",
          "name": "stdout",
          "text": [
            "Xepa dos Dev's\n",
            "Qual fruta você vai querer: Morango ou Maça: maça\n",
            "Quantos kilo você vai querer: 5\n",
            "\n",
            "Fruta: Maça\n",
            "Valor: R$ 7.5\n"
          ]
        }
      ]
    },
    {
      "cell_type": "markdown",
      "source": [
        "## Exercício 28"
      ],
      "metadata": {
        "id": "olz3h1ldRgc8"
      }
    },
    {
      "cell_type": "markdown",
      "source": [
        "### O Hipermercado Tabajara está com uma promoção de carnes que é imperdível. Confira:\n",
        "                      Até 5 Kg           Acima de 5 Kg\n",
        "\n",
        "File Duplo      RS 5,80 por Kg          RS 4,90 por Kg\n",
        "\n",
        "Alcatra         RS 6,80 por Kg          RS 5,90 por Kg\n",
        "\n",
        "Picanha         RS 7,80 por Kg          RS 6,90 por Kg\n",
        "\n",
        "Para atender a todos os clientes, cada cliente poderá levar apenas um dos tipos de carne da promoção, porém não há limites para a quantidade de carne por cliente. \n",
        "\n",
        "Se compra for feita no cartão Tabajara o cliente receberá ainda um desconto de 5% sobre o total da compra. \n",
        "\n",
        "Escreva um programa que peça o tipo e a quantidade de carne comprada pelo usuário e gere um cupom fiscal, contendo as informações da compra: tipo e quantidade de carne, preço total, tipo de pagamento, valor do desconto e valor a pagar."
      ],
      "metadata": {
        "id": "nA-5w4zGRkNO"
      }
    },
    {
      "cell_type": "code",
      "source": [
        "print('Hipermercado Tabajara DevPro')\n",
        "print()\n",
        "\n",
        "carnes = input('Qual carne na promoção você vai querer: Filé Duplo, Alcatra ou Picanha: ').upper()\n",
        "kilos_carne = float(input('Quantos Kilos: '))\n",
        "\n",
        "print()\n",
        "forma_de_pagamento = input('Qual a forma de Pagamento? Dinheiro, Cartão Visa ou Mastercard, cartão Tabajara: ').upper()\n",
        "\n",
        "escolha_debito_credito = ''\n",
        "\n",
        "# FORMA DE PAGAMENTO NO CARTÃO\n",
        "if forma_de_pagamento == 'CARTÃO VISA' or forma_de_pagamento == 'VISA' or forma_de_pagamento == 'MASTER' or forma_de_pagamento == 'CARTÃO MASTER':\n",
        "  escolha_debito_credito = input(f'Debito ou crédito? ').upper()\n",
        "  if escolha_debito_credito == 'DEBITO':\n",
        "   escolha_debito_credito = 'DEBITO'\n",
        "  else:\n",
        "    escolha_debito_credito = 'CRÉDITO'\n",
        "elif forma_de_pagamento == 'DINHEIRO' or forma_de_pagamento == 'DN':\n",
        "  escolha_debito_credito = 'DINHEIRO'\n",
        "else:\n",
        "  escolha_debito_credito = 'TABAJARA'\n",
        "\n",
        "# FILE CARNE ABAIXO DE 5KG\n",
        "file_abaixo_5kg = 5.80\n",
        "valor_file_abaixo_5kg = kilos_carne * file_abaixo_5kg\n",
        "# PAGAMENTO NO CARTÃO TABAJARA ABAIXO DE 5KG\n",
        "valor_file_abaixo5kg_ct = valor_file_abaixo_5kg * 1.05\n",
        "desconto_file_abaixo5kg_ct = valor_file_abaixo5kg_ct - valor_file_abaixo_5kg\n",
        "valor_final_file_abaixo5kg_ct = valor_file_abaixo_5kg - desconto_file_abaixo5kg_ct\n",
        "# FILE CARNE ACIMA DE 5 KG\n",
        "file_acima_5kg  = 4.90\n",
        "valor_file_acima_5kg = kilos_carne * file_acima_5kg\n",
        "# PAGAMENTO CARTÃO TABAJARA ACIMA DE 5 KG\n",
        "valor_file_acima5kg_ct = valor_file_acima_5kg * 1.05\n",
        "desconto_file_acima5kg_ct = valor_file_acima5kg_ct - valor_file_acima_5kg\n",
        "valor_final_file_acima5kg_ct = valor_file_acima_5kg - desconto_file_acima5kg_ct\n",
        "\n",
        "# ALCATRA CARNE ABAIXO DE 5KG\n",
        "alcatra_abaixo_5kg = 5.80\n",
        "valor_alcatra_abaixo_5kg = kilos_carne * alcatra_abaixo_5kg\n",
        "# PAGAMENTO NO CARTÃO TABAJARA ABAIXO DE 5KG\n",
        "valor_alcatra_abaixo5kg_ct = valor_alcatra_abaixo_5kg * 1.05\n",
        "desconto_alcatra_abaixo5kg_ct = valor_alcatra_abaixo5kg_ct - valor_alcatra_abaixo_5kg\n",
        "valor_final_alcatra_abaixo5kg_ct = valor_alcatra_abaixo_5kg - desconto_alcatra_abaixo5kg_ct\n",
        "# ALCATRA CARNE ACIMA DE 5 KG\n",
        "alcatra_acima_5kg  = 4.90\n",
        "valor_alcatra_acima_5kg = kilos_carne * alcatra_acima_5kg\n",
        "# PAGAMENTO CARTÃO TABAJARA ACIMA DE 5 KG\n",
        "valor_alcatra_acima5kg_ct = valor_alcatra_acima_5kg * 1.05\n",
        "desconto_alcatra_acima5kg_ct = valor_alcatra_acima5kg_ct - valor_alcatra_acima_5kg\n",
        "valor_final_alcatra_acima5kg_ct = valor_alcatra_acima_5kg - desconto_alcatra_acima5kg_ct\n",
        "\n",
        "# PICANHA CARNE ABAIXO DE 5KG\n",
        "picanha_abaixo_5kg = 5.80\n",
        "valor_picanha_abaixo_5kg = kilos_carne * picanha_abaixo_5kg\n",
        "# PAGAMENTO NO CARTÃO TABAJARA ABAIXO DE 5KG\n",
        "valor_picanha_abaixo5kg_ct = valor_picanha_abaixo_5kg * 1.05\n",
        "desconto_picanha_abaixo5kg_ct = valor_picanha_abaixo5kg_ct - valor_picanha_abaixo_5kg\n",
        "valor_final_picanha_abaixo5kg_ct = valor_picanha_abaixo_5kg - desconto_picanha_abaixo5kg_ct\n",
        "# PICANHA CARNE ACIMA DE 5 KG\n",
        "picanha_acima_5kg  = 4.90\n",
        "valor_picanha_acima_5kg = kilos_carne * picanha_acima_5kg\n",
        "# PAGAMENTO CARTÃO TABAJARA ACIMA DE 5 KG\n",
        "valor_picanha_acima5kg_ct = valor_picanha_acima_5kg * 1.05\n",
        "desconto_picanha_acima5kg_ct = valor_picanha_acima5kg_ct - valor_picanha_acima_5kg\n",
        "valor_final_picanha_acima5kg_ct = valor_picanha_acima_5kg - desconto_picanha_acima5kg_ct\n",
        "\n",
        "print()\n",
        "if carnes == 'FILE DUPLO' or carnes == 'FILÉ DUPLO':\n",
        "  if forma_de_pagamento == 'CARTÃO TABAJARA' or forma_de_pagamento == 'TABAJARA':\n",
        "    if kilos_carne < 5:\n",
        "      print(f'Carne: Filé Duplo')\n",
        "      print(f'Quant. Kilo(s): {kilos_carne}')\n",
        "      print(f'Valor Total: R$ {valor_file_abaixo_5kg:.2f}')\n",
        "      print(f'forma de Pagamento: Cartão {escolha_debito_credito} Internacional')\n",
        "      print(f'Desconto: R$ {desconto_file_abaixo5kg_ct:.2f}')\n",
        "      print(f'Valor Total: R$ {valor_final_file_abaixo5kg_ct:.2f}')\n",
        "    elif kilos_carne >= 5:\n",
        "      print(f'Carne: Filé Duplo')\n",
        "      print(f'Quant. Kilo(s): {kilos_carne}')\n",
        "      print(f'Valor Total: R$ {valor_file_acima_5kg:.2f}')\n",
        "      print(f'forma de Pagamento: Cartão {escolha_debito_credito} Internacional')\n",
        "      print(f'Desconto: R$ {desconto_file_acima5kg_ct:.2f}')\n",
        "      print(f'Valor Total: R$ {valor_final_file_acima5kg_ct:.2f}')\n",
        "  elif forma_de_pagamento == 'CARTÃO VISA' or forma_de_pagamento == 'VISA' or forma_de_pagamento == 'MASTER' or forma_de_pagamento == 'CARTÃO MASTER':\n",
        "    if kilos_carne < 5:\n",
        "      print(f'Desconto: Somente nos Cartões Tabajara e Tabajara Internacional')\n",
        "      print(f'Carne: Filé Duplo')\n",
        "      print(f'Quant. Kilo(s): {kilos_carne}')\n",
        "      print(f'Valor Total: R$ {valor_file_abaixo_5kg:.2f}')\n",
        "      print(f'forma de Pagamento: Cartão de {escolha_debito_credito}')      \n",
        "      print(f'Total a Pagar: R$ {valor_file_abaixo_5kg:.2f}')\n",
        "    elif kilos_carne >= 5:\n",
        "      print(f'Desconto: Somente nos Cartões Tabajara e Tabajara Internacional')\n",
        "      print(f'Carne: Filé Duplo')\n",
        "      print(f'Quant. Kilo(s): {kilos_carne}')\n",
        "      print(f'Valor Total: R$ {valor_file_acima_5kg:.2f}')\n",
        "      print(f'forma de Pagamento: Cartão de {escolha_debito_credito}')      \n",
        "      print(f'Total a Pagar: R$ {valor_file_acima_5kg:.2f}')\n",
        "  elif forma_de_pagamento == 'DINHEIRO' or forma_de_pagamento == 'DN':\n",
        "    if kilos_carne < 5:\n",
        "      print(f'Desconto: Somente nos Cartões Tabajara e Tabajara Internacional')\n",
        "      print(f'Carne: Filé Duplo')\n",
        "      print(f'Quant. Kilo(s): {kilos_carne}')\n",
        "      print(f'Valor Total: R$ {valor_file_abaixo_5kg:.2f}')\n",
        "      print(f'forma de Pagamento: {escolha_debito_credito}')      \n",
        "      print(f'Total a Pagar: R$ {valor_file_abaixo_5kg:.2f}')\n",
        "    elif kilos_carne >= 5:\n",
        "      print(f'Desconto: Somente nos Cartões Tabajara e Tabajara Internacional')\n",
        "      print(f'Carne: Filé Duplo')\n",
        "      print(f'Quant. Kilo(s): {kilos_carne}')\n",
        "      print(f'Valor Total: R$ {valor_file_acima_5kg:.2f}')\n",
        "      print(f'forma de Pagamento: {escolha_debito_credito}')      \n",
        "      print(f'Total a Pagar: R$ {valor_file_acima_5kg:.2f}')\n",
        "\n",
        "if carnes == 'ALCATRA':\n",
        "  if forma_de_pagamento == 'CARTÃO TABAJARA' or forma_de_pagamento == 'TABAJARA':\n",
        "    if kilos_carne < 5:\n",
        "      print(f'Carne: Alcatra')\n",
        "      print(f'Quant. Kilo(s): {kilos_carne}')\n",
        "      print(f'Valor Total: R$ {valor_alcatra_abaixo_5kg:.2f}')\n",
        "      print(f'forma de Pagamento: Cartão {escolha_debito_credito} Internacional')\n",
        "      print(f'Desconto: R$ {desconto_alcatra_abaixo5kg_ct:.2f}')\n",
        "      print(f'Valor Total: R$ {valor_final_alcatra_abaixo5kg_ct:.2f}')\n",
        "    elif kilos_carne >= 5:\n",
        "      print(f'Carne: Alcatra')\n",
        "      print(f'Quant. Kilo(s): {kilos_carne}')\n",
        "      print(f'Valor Total: R$ {valor_alcatra_acima_5kg:.2f}')\n",
        "      print(f'forma de Pagamento: Cartão {escolha_debito_credito} Internacional')\n",
        "      print(f'Desconto: R$ {desconto_alcatra_acima5kg_ct:.2f}')\n",
        "      print(f'Valor Total: R$ {valor_final_alcatra_acima5kg_ct:.2f}')\n",
        "  elif forma_de_pagamento == 'CARTÃO VISA' or forma_de_pagamento == 'VISA' or forma_de_pagamento == 'MASTER' or forma_de_pagamento == 'CARTÃO MASTER':\n",
        "    if kilos_carne < 5:\n",
        "      print(f'Desconto: Somente nos Cartões Tabajara e Tabajara Internacional')\n",
        "      print(f'Carne: Alcatra')\n",
        "      print(f'Quant. Kilo(s): {kilos_carne}')\n",
        "      print(f'Valor Total: R$ {valor_alcatra_abaixo_5kg:.2f}')\n",
        "      print(f'forma de Pagamento: Cartão de {escolha_debito_credito}')      \n",
        "      print(f'Total a Pagar: R$ {valor_alcatra_abaixo_5kg:.2f}')\n",
        "    elif kilos_carne >= 5:\n",
        "      print(f'Desconto: Somente nos Cartões Tabajara e Tabajara Internacional')\n",
        "      print(f'Carne: Alcatra')\n",
        "      print(f'Quant. Kilo(s): {kilos_carne}')\n",
        "      print(f'Valor Total: R$ {valor_alcatra_acima_5kg:.2f}')\n",
        "      print(f'forma de Pagamento: Cartão de {escolha_debito_credito}')      \n",
        "      print(f'Total a Pagar: R$ {valor_alcatra_acima_5kg:.2f}')\n",
        "  elif forma_de_pagamento == 'DINHEIRO' or forma_de_pagamento == 'DN':\n",
        "    if kilos_carne < 5:\n",
        "      print(f'Desconto: Somente nos Cartões Tabajara e Tabajara Internacional')\n",
        "      print(f'Carne: Alcatra')\n",
        "      print(f'Quant. Kilo(s): {kilos_carne}')\n",
        "      print(f'Valor Total: R$ {valor_alcatra_abaixo_5kg:.2f}')\n",
        "      print(f'forma de Pagamento: {escolha_debito_credito}')      \n",
        "      print(f'Total a Pagar: R$ {valor_alcatra_abaixo_5kg:.2f}')\n",
        "    elif kilos_carne >= 5:\n",
        "      print(f'Desconto: Somente nos Cartões Tabajara e Tabajara Internacional')\n",
        "      print(f'Carne: Alcatra')\n",
        "      print(f'Quant. Kilo(s): {kilos_carne}')\n",
        "      print(f'Valor Total: R$ {valor_alcatra_acima_5kg:.2f}')\n",
        "      print(f'forma de Pagamento: {escolha_debito_credito}')      \n",
        "      print(f'Total a Pagar: R$ {valor_alcatra_acima_5kg:.2f}')\n",
        "\n",
        "if carnes == 'PICANHA':\n",
        "  if forma_de_pagamento == 'CARTÃO TABAJARA' or forma_de_pagamento == 'TABAJARA':\n",
        "    if kilos_carne < 5:\n",
        "      print(f'Carne: Picanha')\n",
        "      print(f'Quant. Kilo(s): {kilos_carne}')\n",
        "      print(f'Valor Total: R$ {valor_picanha_abaixo_5kg:.2f}')\n",
        "      print(f'forma de Pagamento: Cartão {escolha_debito_credito} Internacional')\n",
        "      print(f'Desconto: R$ {desconto_picanha_abaixo5kg_ct:.2f}')\n",
        "      print(f'Valor Total: R$ {valor_final_picanha_abaixo5kg_ct:.2f}')\n",
        "    elif kilos_carne >= 5:\n",
        "      print(f'Carne: Picanha')\n",
        "      print(f'Quant. Kilo(s): {kilos_carne}')\n",
        "      print(f'Valor Total: R$ {valor_picanha_acima_5kg:.2f}')\n",
        "      print(f'forma de Pagamento: Cartão {escolha_debito_credito} Internacional')\n",
        "      print(f'Desconto: R$ {desconto_picanha_acima5kg_ct:.2f}')\n",
        "      print(f'Valor Total: R$ {valor_final_picanha_acima5kg_ct:.2f}')\n",
        "  elif forma_de_pagamento == 'CARTÃO VISA' or forma_de_pagamento == 'VISA' or forma_de_pagamento == 'MASTER' or forma_de_pagamento == 'CARTÃO MASTER':\n",
        "    if kilos_carne < 5:\n",
        "      print(f'Desconto: Somente nos Cartões Tabajara e Tabajara Internacional')\n",
        "      print(f'Carne: Picanha')\n",
        "      print(f'Quant. Kilo(s): {kilos_carne}')\n",
        "      print(f'Valor Total: R$ {valor_picanha_abaixo_5kg:.2f}')\n",
        "      print(f'forma de Pagamento: Cartão de {escolha_debito_credito}')      \n",
        "      print(f'Total a Pagar: R$ {valor_picanha_abaixo_5kg:.2f}')\n",
        "    elif kilos_carne >= 5:\n",
        "      print(f'Desconto: Somente nos Cartões Tabajara e Tabajara Internacional')\n",
        "      print(f'Carne: Picanha')\n",
        "      print(f'Quant. Kilo(s): {kilos_carne}')\n",
        "      print(f'Valor Total: R$ {valor_picanha_acima_5kg:.2f}')\n",
        "      print(f'forma de Pagamento: Cartão de {escolha_debito_credito}')      \n",
        "      print(f'Total a Pagar: R$ {valor_picanha_acima_5kg:.2f}')\n",
        "  elif forma_de_pagamento == 'DINHEIRO' or forma_de_pagamento == 'DN':\n",
        "    if kilos_carne < 5:\n",
        "      print(f'Desconto: Somente nos Cartões Tabajara e Tabajara Internacional')\n",
        "      print(f'Carne: Picanha')\n",
        "      print(f'Quant. Kilo(s): {kilos_carne}')\n",
        "      print(f'Valor Total: R$ {valor_picanha_abaixo_5kg:.2f}')\n",
        "      print(f'forma de Pagamento: {escolha_debito_credito}')      \n",
        "      print(f'Total a Pagar: R$ {valor_picanha_abaixo_5kg:.2f}')\n",
        "    elif kilos_carne >= 5:\n",
        "      print(f'Desconto: Somente nos Cartões Tabajara e Tabajara Internacional')\n",
        "      print(f'Carne: Picanha')\n",
        "      print(f'Quant. Kilo(s): {kilos_carne}')\n",
        "      print(f'Valor Total: R$ {valor_picanha_acima_5kg:.2f}')\n",
        "      print(f'forma de Pagamento: {escolha_debito_credito}')      \n",
        "      print(f'Total a Pagar: R$ {valor_picanha_acima_5kg:.2f}')"
      ],
      "metadata": {
        "id": "r6_gMDexR2HH",
        "colab": {
          "base_uri": "https://localhost:8080/"
        },
        "outputId": "121019bc-3451-454f-bf50-ffb0fcbeed57"
      },
      "execution_count": 43,
      "outputs": [
        {
          "output_type": "stream",
          "name": "stdout",
          "text": [
            "Hipermercado Tabajara DevPro\n",
            "\n",
            "Qual carne na promoção você vai querer: Filé Duplo, Alcatra ou Picanha: picanha\n",
            "Quantos Kilos: 8\n",
            "\n",
            "Qual a forma de Pagamento? Dinheiro, Cartão Visa ou Mastercard, cartão Tabajara: dinheiro\n",
            "\n",
            "Desconto: Somente nos Cartões Tabajara e Tabajara Internacional\n",
            "Carne: Picanha\n",
            "Quant. Kilo(s): 8.0\n",
            "Valor Total: R$ 39.20\n",
            "forma de Pagamento: DINHEIRO\n",
            "Total a Pagar: R$ 39.20\n"
          ]
        }
      ]
    }
  ]
}