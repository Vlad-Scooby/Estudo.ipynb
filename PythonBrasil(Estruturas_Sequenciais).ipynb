{
  "nbformat": 4,
  "nbformat_minor": 0,
  "metadata": {
    "colab": {
      "name": "PythonBrasil(Estruturas Sequenciais).ipynb",
      "provenance": [],
      "collapsed_sections": [
        "_n-Y7m2tyy0g",
        "c7xZam9j0zVB",
        "ZY7iwPV52J0h",
        "n5mnJJFr35Df",
        "sa2Lsica4IF5",
        "3cDqXRpB4RKf",
        "ItU0Hhks4Vco",
        "1Ocm7GRG4YLC",
        "FkuGn9wr4boS",
        "8i185Uue4dZq",
        "019dCJJ44gNJ",
        "ROOZtmnP4jdO",
        "B_jso--p4l4D",
        "CqiGZ24k4n6o",
        "ucFy7z-74p-y",
        "4GRPhx3B4sMd",
        "ENoKEt-T4unm"
      ],
      "authorship_tag": "ABX9TyPi34pnZfvTEq2Tk/g/48sT",
      "include_colab_link": true
    },
    "kernelspec": {
      "name": "python3",
      "display_name": "Python 3"
    },
    "language_info": {
      "name": "python"
    }
  },
  "cells": [
    {
      "cell_type": "markdown",
      "metadata": {
        "id": "view-in-github",
        "colab_type": "text"
      },
      "source": [
        "<a href=\"https://colab.research.google.com/github/Vlad-Scooby/Estudo.ipynb/blob/main/PythonBrasil(Estruturas_Sequenciais).ipynb\" target=\"_parent\"><img src=\"https://colab.research.google.com/assets/colab-badge.svg\" alt=\"Open In Colab\"/></a>"
      ]
    },
    {
      "cell_type": "markdown",
      "metadata": {
        "id": "FMNBD85-qjT_"
      },
      "source": [
        "#Desafio DevPro: Aluno [Vlad Scooby](https://github.com/Vlad-Scooby)"
      ]
    },
    {
      "cell_type": "markdown",
      "metadata": {
        "id": "TcuiMybvpZHH"
      },
      "source": [
        "#Exercicios [Python Brasil](https://wiki.python.org.br/ListaDeExercicios)"
      ]
    },
    {
      "cell_type": "markdown",
      "metadata": {
        "id": "mdjSyVAKw0by"
      },
      "source": [
        "#[Estruturas Sequenciais](https://wiki.python.org.br/EstruturaSequencial)\n"
      ]
    },
    {
      "cell_type": "markdown",
      "metadata": {
        "id": "V1riZaXcxAqT"
      },
      "source": [
        "##1 exercicio"
      ]
    },
    {
      "cell_type": "markdown",
      "metadata": {
        "id": "8Rx_ScHGzP7m"
      },
      "source": [
        "### Faça um Programa que mostre a mensagem \"Alo mundo\" na tela."
      ]
    },
    {
      "cell_type": "code",
      "metadata": {
        "colab": {
          "base_uri": "https://localhost:8080/"
        },
        "id": "hH1IiaCgxG8g",
        "outputId": "9b511074-1c5c-47a0-9b51-d6c6d451134c"
      },
      "source": [
        "print (f'\"Olá Mundo\"')\n",
        "type (f'\"Olá Mundo\"')\n",
        "\n"
      ],
      "execution_count": 2,
      "outputs": [
        {
          "output_type": "stream",
          "name": "stdout",
          "text": [
            "\"Olá Mundo\"\n"
          ]
        },
        {
          "output_type": "execute_result",
          "data": {
            "text/plain": [
              "str"
            ]
          },
          "metadata": {},
          "execution_count": 2
        }
      ]
    },
    {
      "cell_type": "markdown",
      "metadata": {
        "id": "_n-Y7m2tyy0g"
      },
      "source": [
        "##2 exercicio"
      ]
    },
    {
      "cell_type": "markdown",
      "metadata": {
        "id": "2ZjwVw8Mz86A"
      },
      "source": [
        "### Faça um Programa que peça um número e então mostre a mensagem O número informado foi [número]."
      ]
    },
    {
      "cell_type": "code",
      "metadata": {
        "colab": {
          "base_uri": "https://localhost:8080/"
        },
        "id": "cbzx9L2YuAZa",
        "outputId": "2bd3e167-cd51-4955-e91c-6cb8f8033755"
      },
      "source": [
        "numero = input('Digite um numero: ')\n",
        "print(f'O numero informado foi : {numero}')"
      ],
      "execution_count": null,
      "outputs": [
        {
          "output_type": "stream",
          "name": "stdout",
          "text": [
            "Digite um numero: 14\n",
            "O numero informado foi : 14\n"
          ]
        }
      ]
    },
    {
      "cell_type": "markdown",
      "metadata": {
        "id": "c7xZam9j0zVB"
      },
      "source": [
        "##3 exercicio"
      ]
    },
    {
      "cell_type": "markdown",
      "metadata": {
        "id": "N3rGyr2I0MM_"
      },
      "source": [
        "### Faça um Programa que peça dois números e imprima a soma."
      ]
    },
    {
      "cell_type": "code",
      "metadata": {
        "colab": {
          "base_uri": "https://localhost:8080/"
        },
        "id": "elxF1TWj02ab",
        "outputId": "62e58cbc-9cd7-4763-9014-14306e027120"
      },
      "source": [
        "numero1 = int(input(f'Insira o primeiro valor: '))\n",
        "numero2 = int(input(f'Insira o segundo valor: '))\n",
        "soma = (numero1 + numero2) \n",
        "print(f'A soma dos dois numeros são: {soma}')\n"
      ],
      "execution_count": null,
      "outputs": [
        {
          "output_type": "stream",
          "name": "stdout",
          "text": [
            "Insira o primeiro valor: 14\n",
            "Insira o segundo valor: 14\n",
            "A soma dos dois numeros são: 28\n"
          ]
        }
      ]
    },
    {
      "cell_type": "markdown",
      "metadata": {
        "id": "ZY7iwPV52J0h"
      },
      "source": [
        "##4 exercicio"
      ]
    },
    {
      "cell_type": "markdown",
      "metadata": {
        "id": "59sr3t-Y0Z0-"
      },
      "source": [
        "### Faça um Programa que peça as 4 notas bimestrais e mostre a média."
      ]
    },
    {
      "cell_type": "code",
      "metadata": {
        "colab": {
          "base_uri": "https://localhost:8080/"
        },
        "id": "0yZv2EP_2Lkt",
        "outputId": "ac8fa60b-ee8b-48e0-eedb-9800c51218ea"
      },
      "source": [
        "notas_1 = int(input(f'1º Bimestre: '))\n",
        "notas_2 = int(input(f'2º Bimestre: '))\n",
        "notas_3 = int(input(f'3º Bimestre: '))\n",
        "notas_4 = int(input(f'4º Bimestre: '))\n",
        "\n",
        "total_de_notas = float(notas_1 + notas_2 + notas_3 + notas_4) / 4\n",
        "final_0 = print(f'A média do aluno é :',total_de_notas)\n",
        "\n",
        "if total_de_notas >= 80:\n",
        " print ('O Aluno foi Aprovado ')\n",
        "\n",
        "elif total_de_notas >= 50:\n",
        "  print('O Aluno está de Recuperção')\n",
        "\n",
        "else:\n",
        "  print('O Aluno está Reprovado')\n"
      ],
      "execution_count": null,
      "outputs": [
        {
          "output_type": "stream",
          "name": "stdout",
          "text": [
            "1º Bimestre: 70\n",
            "2º Bimestre: 70\n",
            "3º Bimestre: 70\n",
            "4º Bimestre: 70\n",
            "A média do aluno é : 70.0\n",
            "O Aluno está de Recuperção\n"
          ]
        }
      ]
    },
    {
      "cell_type": "markdown",
      "metadata": {
        "id": "n5mnJJFr35Df"
      },
      "source": [
        "##5 exercicio"
      ]
    },
    {
      "cell_type": "markdown",
      "metadata": {
        "id": "eVfZissDGGd5"
      },
      "source": [
        "### Faça um Programa que converta metros para centímetros."
      ]
    },
    {
      "cell_type": "code",
      "metadata": {
        "id": "-U1bRZPP4OHx",
        "colab": {
          "base_uri": "https://localhost:8080/"
        },
        "outputId": "b4e23cfa-fcce-48f2-e4bb-44a1b1d4200d"
      },
      "source": [
        "import math\n",
        "m_t = float(input(f'Quantos metros você quer:'))\n",
        "c_m_3 = math.ceil(m_t * 100)\n",
        "print(f'{m_t} MT equivale á {c_m_3} CM')\n"
      ],
      "execution_count": null,
      "outputs": [
        {
          "output_type": "stream",
          "name": "stdout",
          "text": [
            "Quantos metros você quer:100\n",
            "100.0 MT equivale á 10000 CM\n"
          ]
        }
      ]
    },
    {
      "cell_type": "markdown",
      "metadata": {
        "id": "sa2Lsica4IF5"
      },
      "source": [
        "##6 exercicio"
      ]
    },
    {
      "cell_type": "markdown",
      "metadata": {
        "id": "Mmj5DyqIST1P"
      },
      "source": [
        "### Faça um Programa que peça o raio de um círculo, calcule e mostre sua área."
      ]
    },
    {
      "cell_type": "code",
      "metadata": {
        "id": "AEQSk6y_4Pct",
        "colab": {
          "base_uri": "https://localhost:8080/"
        },
        "outputId": "d01b9210-299a-43ba-d565-ac0a7f9ac3cd"
      },
      "source": [
        "import math\n",
        "\n",
        "raio = float(input(f'Qual o tamanho do raio desejado:' ))\n",
        "area = float(math.floor(math.pi * (raio ** 2)))\n",
        "print(f'O tamanho de sua area é: ', area )\n",
        "type (area)\n"
      ],
      "execution_count": null,
      "outputs": [
        {
          "output_type": "stream",
          "name": "stdout",
          "text": [
            "Qual o tamanho do raio desejado:100\n",
            "O tamanho de sua area é:  31415.0\n"
          ]
        },
        {
          "output_type": "execute_result",
          "data": {
            "text/plain": [
              "float"
            ]
          },
          "metadata": {},
          "execution_count": 24
        }
      ]
    },
    {
      "cell_type": "markdown",
      "metadata": {
        "id": "3cDqXRpB4RKf"
      },
      "source": [
        "##7 exercicio"
      ]
    },
    {
      "cell_type": "markdown",
      "metadata": {
        "id": "U7eFOmek78Pl"
      },
      "source": [
        "### Faça um Programa que calcule a área de um quadrado, em seguida mostre o dobro desta área para o usuário."
      ]
    },
    {
      "cell_type": "code",
      "metadata": {
        "id": "ATUllaD74VJs",
        "colab": {
          "base_uri": "https://localhost:8080/"
        },
        "outputId": "b516e176-2a99-44e3-ce0d-7be3a973b5bd"
      },
      "source": [
        "import math\n",
        "\n",
        "area_ = float(input(f'Qual o tamanho da area do quadrado: '))\n",
        "area_1 = area_ * 2\n",
        "area_2 = area_1 ** 2\n",
        "print(f'sua área é {area_1}, e seu dobro é {area_2}')\n",
        "\n"
      ],
      "execution_count": null,
      "outputs": [
        {
          "output_type": "stream",
          "name": "stdout",
          "text": [
            "Qual o tamanho da area do quadrado: 1444\n",
            "sua área é 2888.0, e seu dobro é 8340544.0\n"
          ]
        }
      ]
    },
    {
      "cell_type": "markdown",
      "metadata": {
        "id": "ItU0Hhks4Vco"
      },
      "source": [
        "##8 exercicio"
      ]
    },
    {
      "cell_type": "markdown",
      "metadata": {
        "id": "8frwDroZMlqS"
      },
      "source": [
        "### Faça um Programa que pergunte quanto você ganha por hora e o número de horas trabalhadas no mês. Calcule e mostre o total do seu salário no referido mês."
      ]
    },
    {
      "cell_type": "code",
      "metadata": {
        "id": "ZrNv1hkG4X7j",
        "colab": {
          "base_uri": "https://localhost:8080/"
        },
        "outputId": "49978ab8-dcf9-4559-d400-2a729294d4ed"
      },
      "source": [
        "import math\n",
        "\n",
        "h_dia = float(input(f'Quantas hora você trabalha no dia: '))  \n",
        "dn_h = float(input(f'Quanto você ganha por hora: '))\n",
        "h_ms = float(input(f'Número de horas trabalhadas no mês: '))\n",
        "\n",
        "h_dia_1 = float(dn_h * h_dia)  \n",
        "h_m = float(math.ceil(h_dia_1 * h_ms))\n",
        "\n",
        "\n",
        "print(f'Seu salário no mês foi: R$ {h_m}')\n"
      ],
      "execution_count": null,
      "outputs": [
        {
          "output_type": "stream",
          "name": "stdout",
          "text": [
            "Quantas hora você trabalha no dia: 14\n",
            "Quanto você ganha por hora: 7.80\n",
            "Número de horas trabalhadas no mês: 44\n",
            "Seu salário no mês foi: R$ 4805.0\n"
          ]
        }
      ]
    },
    {
      "cell_type": "markdown",
      "metadata": {
        "id": "1Ocm7GRG4YLC"
      },
      "source": [
        "##9 exercicio"
      ]
    },
    {
      "cell_type": "markdown",
      "metadata": {
        "id": "S0gw-IIwTNVy"
      },
      "source": [
        "### Faça um Programa que peça a temperatura em graus Fahrenheit, transforme e mostre a temperatura em graus Celsius.\n",
        "C = 5 * ((F-32) / 9)"
      ]
    },
    {
      "cell_type": "code",
      "metadata": {
        "id": "WNYlt9hX4avN",
        "colab": {
          "base_uri": "https://localhost:8080/"
        },
        "outputId": "718a1734-52fb-4d56-e4ca-53f2dc7c81bd"
      },
      "source": [
        "import math\n",
        "\n",
        "fah_ = float(input(f'Defina sua temperatura :'))\n",
        "fah_1 = float( fah_ - 32 * 5 / 9 )\n",
        "fah_fl = math.floor(fah_1)\n",
        "print(f' {fah_} °F equivale a {fah_fl} °C ') "
      ],
      "execution_count": null,
      "outputs": [
        {
          "output_type": "stream",
          "name": "stdout",
          "text": [
            "Defina sua temperatura :144\n",
            " 144.0 °F equivale a 126 °C \n"
          ]
        }
      ]
    },
    {
      "cell_type": "markdown",
      "metadata": {
        "id": "ZSm70KI34bJW"
      },
      "source": [
        ""
      ]
    },
    {
      "cell_type": "markdown",
      "metadata": {
        "id": "FkuGn9wr4boS"
      },
      "source": [
        "##10 exercicio"
      ]
    },
    {
      "cell_type": "markdown",
      "metadata": {
        "id": "CspAdqrkZasy"
      },
      "source": [
        "### Faça um Programa que peça a temperatura em graus Celsius, transforme e mostre em graus Fahrenheit."
      ]
    },
    {
      "cell_type": "code",
      "metadata": {
        "id": "2QNHKgay4dJr",
        "colab": {
          "base_uri": "https://localhost:8080/"
        },
        "outputId": "ad2e0a28-2bfb-4d23-ab4d-86ef7a5e2233"
      },
      "source": [
        "import math\n",
        "\n",
        "cels_ = float(input(f'Defina sua temperatura :'))\n",
        "cels_1 = float( 9 * cels_ / 5 + 32 )\n",
        "cels_fl = (cels_1)\n",
        "print(f' {cels_} °C quivale a {cels_fl} °F ') "
      ],
      "execution_count": null,
      "outputs": [
        {
          "output_type": "stream",
          "name": "stdout",
          "text": [
            "Defina sua temperatura :144\n",
            " 144.0 °C quivale a 291.2 °F \n"
          ]
        }
      ]
    },
    {
      "cell_type": "markdown",
      "metadata": {
        "id": "8i185Uue4dZq"
      },
      "source": [
        "##11 exercicio"
      ]
    },
    {
      "cell_type": "markdown",
      "metadata": {
        "id": "Tr0PaRogf_lP"
      },
      "source": [
        "### Faça um Programa que peça 2 números inteiros e um número real. Calcule e mostre:\n",
        "###o produto do dobro do primeiro com    metade do segundo .\n",
        "###a soma do triplo do primeiro com o terceiro\n",
        "###o terceiro elevado ao cubo."
      ]
    },
    {
      "cell_type": "code",
      "metadata": {
        "id": "2F5pte_m4f-K",
        "colab": {
          "base_uri": "https://localhost:8080/"
        },
        "outputId": "0e79c409-333f-42f1-971d-5348d89ba2ec"
      },
      "source": [
        "import math\n",
        "\n",
        "teiro_1 = int(input(f'Primero valor inteiro: '))\n",
        "teiro_2 = int(input(f'Segundo valor inteiro: '))\n",
        "real_ = float(input(f'Informe o valor real: '))\n",
        "teiro_real = float(teiro_1 + teiro_2 + real_)\n",
        "#calculos \n",
        "db_p = teiro_1 * 2\n",
        "mt_s = teiro_2 / 2\n",
        "db_p_3 = float(teiro_1 * 3 + real_)\n",
        "ter_c = real_ ** 2\n",
        "#respotas\n",
        "print(f'O dobro do Primeiro é {db_p} com metade do Segundo é {mt_s}')\n",
        "print(f'A soma do triplo do Primeiro com o Terceiro é {db_p_3}')\n",
        "print(f'O Terceiro elevado ao cubo é {ter_c}')\n",
        "#definição das type\n",
        "print(f'PN {teiro_1}, SN {teiro_2}, real {real_}')\n",
        "print(type(teiro_1), type(teiro_2), type(real_) )\n",
        "print(teiro_real)"
      ],
      "execution_count": null,
      "outputs": [
        {
          "output_type": "stream",
          "name": "stdout",
          "text": [
            "Primero valor inteiro: 144\n",
            "Segundo valor inteiro: 14\n",
            "Informe o valor real: 14\n",
            "O dobro do Primeiro é 288 com metade do Segundo é 7.0\n",
            "A soma do triplo do Primeiro com o Terceiro é 446.0\n",
            "O Terceiro elevado ao cubo é 196.0\n",
            "PN 144, SN 14, real 14.0\n",
            "<class 'int'> <class 'int'> <class 'float'>\n",
            "172.0\n"
          ]
        }
      ]
    },
    {
      "cell_type": "markdown",
      "metadata": {
        "id": "019dCJJ44gNJ"
      },
      "source": [
        "##12 exercicio"
      ]
    },
    {
      "cell_type": "markdown",
      "metadata": {
        "id": "xYnrMOM9ND5N"
      },
      "source": [
        "### Tendo como dados de entrada a altura de uma pessoa, construa um algoritmo que calcule seu peso ideal, usando a seguinte fórmula: (72.7*altura) - 58"
      ]
    },
    {
      "cell_type": "code",
      "metadata": {
        "id": "3TYNvF6K4jBg",
        "colab": {
          "base_uri": "https://localhost:8080/"
        },
        "outputId": "0afeeffa-4a92-4bec-c469-fccf531c627d"
      },
      "source": [
        "import math\n",
        "\n",
        "altp_ = float(input(f'Qual sua altura: '))\n",
        "\n",
        "clc_alt = math.floor(72.2 * altp_ - 58)\n",
        "\n",
        "print(f'Seu peso ideal é: {clc_alt} kg')"
      ],
      "execution_count": null,
      "outputs": [
        {
          "output_type": "stream",
          "name": "stdout",
          "text": [
            "Qual sua altura: 144\n",
            "Seu peso ideal é: 10338 kg\n"
          ]
        }
      ]
    },
    {
      "cell_type": "markdown",
      "metadata": {
        "id": "ROOZtmnP4jdO"
      },
      "source": [
        "##13 exercicio"
      ]
    },
    {
      "cell_type": "markdown",
      "metadata": {
        "id": "WQ6AslQyOygs"
      },
      "source": [
        "### Tendo como dado de entrada a altura (h) de uma pessoa, construa um algoritmo que calcule seu peso ideal, utilizando as seguintes fórmulas"
      ]
    },
    {
      "cell_type": "code",
      "metadata": {
        "id": "ilXsFdjY4lgN",
        "colab": {
          "base_uri": "https://localhost:8080/"
        },
        "outputId": "2690a7f0-83c5-47ac-8fbb-63bd974ba4d1"
      },
      "source": [
        "import math\n",
        "\n",
        "alt_p = float(input(f'Qual a sua Altura: '))\n",
        "sx_t = str(input(f'Você é Homem ou Mulher: '))\n",
        "h_m = math.ceil( 72.2 * alt_p - 58)\n",
        "m_l = math.ceil(62.1 * alt_p - 44.7)\n",
        "\n",
        "if sx_t == str(f'Homem'):\n",
        "  print(f'Seu peso Ideal é: {h_m}KG')\n",
        "\n",
        "else:\n",
        "  print(f'Seu peso ideal é: {m_l}KG')"
      ],
      "execution_count": null,
      "outputs": [
        {
          "output_type": "stream",
          "name": "stdout",
          "text": [
            "Qual a sua Altura: 1.90\n",
            "Você é Homem ou Mulher: Mulher\n",
            "Seu peso ideal é: 74KG\n"
          ]
        }
      ]
    },
    {
      "cell_type": "markdown",
      "metadata": {
        "id": "B_jso--p4l4D"
      },
      "source": [
        "##14 exercicio"
      ]
    },
    {
      "cell_type": "markdown",
      "metadata": {
        "id": "ym0EC0WRYIUz"
      },
      "source": [
        "### João Papo-de-Pescador, homem de bem, comprou um microcomputador para controlar o rendimento diário de seu trabalho. Toda vez que ele traz um peso de peixes maior que o estabelecido pelo regulamento de pesca do estado de São Paulo (50 quilos) deve pagar uma multa de R$ 4,00 por quilo excedente. João precisa que você faça um programa que leia a variável peso (peso de peixes) e calcule o excesso. Gravar na variável excesso a quantidade de quilos além do limite e na variável multa o valor da multa que João deverá pagar. Imprima os dados do programa com as mensagens adequadas."
      ]
    },
    {
      "cell_type": "code",
      "metadata": {
        "id": "I8D8Cjya4nmZ",
        "colab": {
          "base_uri": "https://localhost:8080/"
        },
        "outputId": "29e65573-4f0f-4f06-93da-5cb53734af13"
      },
      "source": [
        "import math\n",
        "\n",
        "qnt_px = float(input(f'Peso total de Peixes: '))\n",
        "quant_per = 50\n",
        "mults = 4\n",
        "sm_t = float(quant_per - 50 * 4)\n",
        "\n",
        "if qnt_px == 50:\n",
        "  print(f'Sua quantidade de {qnt_px}KG não excede o permitido por lei')\n",
        "\n",
        "else:\n",
        "  print(f'Usa quantidade de {qnt_px}KG excede o valor permitido, sua multa é de R$ {sm_t}')"
      ],
      "execution_count": null,
      "outputs": [
        {
          "output_type": "stream",
          "name": "stdout",
          "text": [
            "Peso total de Peixes: 70\n",
            "Usa quantidade de 70.0KG excede o valor permitido, sua multa é de R$ -150.0\n"
          ]
        }
      ]
    },
    {
      "cell_type": "markdown",
      "metadata": {
        "id": "CqiGZ24k4n6o"
      },
      "source": [
        "##15 exercicio"
      ]
    },
    {
      "cell_type": "markdown",
      "metadata": {
        "id": "Lxa4xTRgocho"
      },
      "source": [
        "### Faça um Programa que pergunte quanto você ganha por hora e o número de horas trabalhadas no mês. Calcule e mostre o total do seu salário no referido mês, sabendo-se que são descontados 11% para o Imposto de Renda, 8% para o INSS e 5% para o sindicato, faça um programa que nos dê:\n",
        "#####salário bruto.\n",
        "#####quanto pagou ao INSS.\n",
        "#####quanto pagou ao sindicato.\n",
        "#####o salário líquido.\n",
        "#####calcule os descontos e o salário líquido, conforme a tabela abaixo:\n",
        "#####+ Salário Bruto : R$\n",
        "\n",
        "#####- IR (11%) : R$\n",
        "\n",
        "#####- INSS (8%) : R$\n",
        "\n",
        "#####- Sindicato ( 5%) : R$\n",
        "\n",
        "#####= Salário Liquido : R$\n",
        "#####Obs.: Salário Bruto - Descontos = Salário Líquido."
      ]
    },
    {
      "cell_type": "code",
      "metadata": {
        "id": "ZWz1hJW34pmH",
        "colab": {
          "base_uri": "https://localhost:8080/"
        },
        "outputId": "dd2da1ed-cd95-4a0d-ccb9-af8a6d5b4fca"
      },
      "source": [
        "import math\n",
        "\n",
        "hr_dia = float(input(f'Quantas hora você trabalha no dia: R$ ' ))  \n",
        "dnh_hr = float(input(f'Quanto você ganha por hora: R$ ' ))\n",
        "hr_ms = float(input(f'Número de horas trabalhadas no mês: R$ ' ))\n",
        "\n",
        "slr_bt = math.floor(dnh_hr * hr_dia * hr_ms)\n",
        "\n",
        "ir = float(11/100.0 * slr_bt)\n",
        "inss = float(8/100.0 * slr_bt)\n",
        "sind_ = float(5/100.0 * slr_bt)\n",
        "\n",
        "sm_t = math.floor(ir + inss + sind_)\n",
        "sl_b_t = slr_bt - sm_t\n",
        "\n",
        "print(f'Salário Bruto: R$', slr_bt )\n",
        "print(f'IR: R$', ir)\n",
        "print(f'INSS: R$',inss)\n",
        "print(f'Sindicato: R$',sind_)\n",
        "print(f'Total de Desconto: R$',sm_t)\n",
        "print(f'Salãrio Bruto: R$',sl_b_t)\n",
        "\n"
      ],
      "execution_count": null,
      "outputs": [
        {
          "output_type": "stream",
          "name": "stdout",
          "text": [
            "Quantas hora você trabalha no dia: R$ 7\n",
            "Quanto você ganha por hora: R$ 44\n",
            "Número de horas trabalhadas no mês: R$ 50\n",
            "Salário Bruto: R$ 15400\n",
            "IR: R$ 1694.0\n",
            "INSS: R$ 1232.0\n",
            "Sindicato: R$ 770.0\n",
            "Total de Desconto: R$ 3696\n",
            "Salãrio Bruto: R$ 11704\n"
          ]
        }
      ]
    },
    {
      "cell_type": "markdown",
      "metadata": {
        "id": "ucFy7z-74p-y"
      },
      "source": [
        "##16 exercicio"
      ]
    },
    {
      "cell_type": "markdown",
      "metadata": {
        "id": "mOWM5bD9LFlM"
      },
      "source": [
        "### Faça um programa para uma loja de tintas. O programa deverá pedir o tamanho em metros quadrados da área a ser pintada. Considere que a cobertura da tinta é de 1 litro para cada 3 metros quadrados e que a tinta é vendida em latas de 18 litros, que custam R$ 80,00. Informe ao usuário a quantidades de latas de tinta a serem compradas e o preço total."
      ]
    },
    {
      "cell_type": "code",
      "metadata": {
        "id": "neLBfEeN4ryz",
        "colab": {
          "base_uri": "https://localhost:8080/"
        },
        "outputId": "d05081e0-e6df-43c4-c45d-45e4dcc8eaae"
      },
      "source": [
        "import math\n",
        "\n",
        "loja_tinta = float(input(f'Quantos metros² vc deseja pintar: '))\n",
        "cobertura_ = loja_tinta / 3\n",
        "quant_litro_ = 18 \n",
        "valor_ltao = 80\n",
        "\n",
        "capacidade_litros =  math.floor(cobertura_ / quant_litro_)\n",
        "valor_total =  math.floor(capacidade_litros * valor_ltao)\n",
        "\n",
        "print(f'Você utilizará', capacidade_litros, 'latão e pagará R$ ', valor_total)\n",
        "\n",
        "\n",
        "\n",
        "\n",
        "\n",
        "\n",
        "\n",
        "\n",
        "\n"
      ],
      "execution_count": null,
      "outputs": [
        {
          "output_type": "stream",
          "name": "stdout",
          "text": [
            "Quantos metros² vc deseja pintar: 200\n",
            "Você utilizará 3 latão e pagará R$  240\n"
          ]
        }
      ]
    },
    {
      "cell_type": "markdown",
      "metadata": {
        "id": "4GRPhx3B4sMd"
      },
      "source": [
        "##17 exercicio"
      ]
    },
    {
      "cell_type": "markdown",
      "metadata": {
        "id": "wIlNwPirKJGk"
      },
      "source": [
        "### Faça um Programa para uma loja de tintas. O programa deverá pedir o tamanho em metros quadrados da área a ser pintada. Considere que a cobertura da tinta é de 1 litro para cada 6 metros quadrados e que a tinta é vendida em latas de 18 litros, que custam Rs 80,00 ou em galões de 3,6 litros, que custam R$ 25,00 \n",
        "Informe ao usuário as quantidades de tinta a serem compradas e os respectivos preços em 3 situações \n",
        "*comprar apenas latas de 18 litros;\n",
        "*comprar apenas galões de 3,6 litros;\n",
        "*misturar latas e galões, de forma que o desperdício de tinta seja menor. \n",
        "Acrescente 10% de folga e sempre arredonde os valores para cima, isto é, considere latas cheias.'"
      ]
    },
    {
      "cell_type": "code",
      "metadata": {
        "colab": {
          "base_uri": "https://localhost:8080/"
        },
        "id": "2cMy1t4E4wpS",
        "outputId": "1fa91d76-6209-4d5a-a3f2-f208b3a320c1"
      },
      "source": [
        "import math\n",
        "\n",
        "\n",
        "lj_tinta = int(input(f'Qual tamanho da área a ser pintada: '))\n",
        "acrescimo = lj_tinta * 1.1\n",
        "rendimento = 6\n",
        "rend_tinta = acrescimo / rendimento\n",
        "lt_18 = 18\n",
        "valor_lt18 = 80\n",
        "quant_lts018 = math.ceil(rend_tinta / lt_18)\n",
        "quant_lt18 = rendimento / lt_18\n",
        "valor_18 = quant_lts018 * 80\n",
        "print(f'Você irá precisar de {quant_lts018} latão de 18 litros no valor de R$ {valor_18}')\n",
        "\n",
        "lt_3 = 3.6\n",
        "valor_lt3 = 25\n",
        "quant_lts03 = math.ceil(rend_tinta / lt_3)\n",
        "quant_lts3 = rendimento / lt_3\n",
        "valor_3 = quant_lts03 * 25\n",
        "print(f'Você irá precisar de {quant_lts03} galões de 3.6 litros no valor de R$ {valor_3}')\n",
        "\n",
        "#otimização\n",
        "\n",
        "quant_lts018 = math.floor(rend_tinta / lt_18)\n",
        "valores = quant_lts018 * 80\n",
        "sobra_tnt = (rend_tinta % lt_18)\n",
        "\n",
        "quant_lts03 = math.ceil(sobra_tnt / lt_3)\n",
        "valor_3_3 = quant_lts03 * 25\n",
        "\n",
        "total = valores + valor_3_3\n",
        "\n",
        "print(f'Você irá precisar de {quant_lts018} de latas de 18 litros e {quant_lts03} galões de 3.6 litros no valor de R$ {total}')\n",
        "\n",
        "#exercico feito com muita dificuldade\n",
        "\n",
        "\n",
        "\n",
        "\n",
        "\n"
      ],
      "execution_count": null,
      "outputs": [
        {
          "output_type": "stream",
          "name": "stdout",
          "text": [
            "Qual tamanho da área a ser pintada: 14\n",
            "Você irá precisar de 1 latão de 18 litros no valor de R$ 80\n",
            "Você irá precisar de 1 galões de 3.6 litros no valor de R$ 25\n",
            "Você irá precisar de 0 de latas de 18 litros e 1 galões de 3.6 litros no valor de R$ 25\n"
          ]
        }
      ]
    },
    {
      "cell_type": "markdown",
      "metadata": {
        "id": "ENoKEt-T4unm"
      },
      "source": [
        "##18 exercicio"
      ]
    },
    {
      "cell_type": "markdown",
      "metadata": {
        "id": "nKObvKMJwcCO"
      },
      "source": [
        "### Faça um programa que peça o tamanho de um arquivo para download (em MB) e a velocidade de um link de Internet (em Mbps), calcule e informe o tempo aproximado de download do arquivo usando este link (em minutos)."
      ]
    },
    {
      "cell_type": "code",
      "metadata": {
        "id": "vI4e18rn4t_X",
        "colab": {
          "base_uri": "https://localhost:8080/"
        },
        "outputId": "2b5c9dc7-204a-4143-8ad8-0de766c1d881"
      },
      "source": [
        "\n",
        "import math\n",
        "tamanho_arq = float(input(f'Tamanho do Arquivo MB: '))\n",
        "velocidade_lin = float(input(f'Velicidade da Internet: '))\n",
        "\n",
        "minuto = 60\n",
        "total = tamanho_arq / velocidade_lin\n",
        "minuto_total = total * minuto\n",
        "\n",
        "print(f'Seu arquivo tem ',tamanho_arq,'MB, sua velocidade Download deste link é',velocidade_lin, 'Mbps')\n",
        "print(f'tempo aproximado de Download ',total,'Minutos')\n",
        "\n"
      ],
      "execution_count": null,
      "outputs": [
        {
          "output_type": "stream",
          "name": "stdout",
          "text": [
            "Tamanho do Arquivo MB: 1000\n",
            "Velicidade da Internet: 50\n",
            "Seu arquivo tem  1000.0 MB, sua velocidade Download deste link é 50.0 Mbps\n",
            "tempo aproximado de Download  20.0 Minutos\n"
          ]
        }
      ]
    }
  ]
}