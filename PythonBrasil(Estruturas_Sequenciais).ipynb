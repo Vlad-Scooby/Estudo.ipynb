{
  "nbformat": 4,
  "nbformat_minor": 0,
  "metadata": {
    "colab": {
      "name": "PythonBrasil(Estruturas Sequenciais).ipynb",
      "provenance": [],
      "collapsed_sections": [
        "V1riZaXcxAqT",
        "_n-Y7m2tyy0g",
        "c7xZam9j0zVB",
        "ZY7iwPV52J0h",
        "n5mnJJFr35Df",
        "sa2Lsica4IF5",
        "3cDqXRpB4RKf",
        "ItU0Hhks4Vco",
        "1Ocm7GRG4YLC",
        "FkuGn9wr4boS",
        "8i185Uue4dZq",
        "019dCJJ44gNJ",
        "ROOZtmnP4jdO",
        "B_jso--p4l4D",
        "CqiGZ24k4n6o",
        "bCqmOeyJN7UJ"
      ],
      "authorship_tag": "ABX9TyNs49gqzpMrIv5/kHRmbwdd",
      "include_colab_link": true
    },
    "kernelspec": {
      "name": "python3",
      "display_name": "Python 3"
    },
    "language_info": {
      "name": "python"
    }
  },
  "cells": [
    {
      "cell_type": "markdown",
      "metadata": {
        "id": "view-in-github",
        "colab_type": "text"
      },
      "source": [
        "<a href=\"https://colab.research.google.com/github/Vlad-Scooby/Estudo.ipynb/blob/main/PythonBrasil(Estruturas_Sequenciais).ipynb\" target=\"_parent\"><img src=\"https://colab.research.google.com/assets/colab-badge.svg\" alt=\"Open In Colab\"/></a>"
      ]
    },
    {
      "cell_type": "markdown",
      "metadata": {
        "id": "FMNBD85-qjT_"
      },
      "source": [
        "#Desafio DevPro: Aluno [Vlad Scooby](https://github.com/Vlad-Scooby)"
      ]
    },
    {
      "cell_type": "markdown",
      "metadata": {
        "id": "TcuiMybvpZHH"
      },
      "source": [
        "#Exercicios [Python Brasil](https://wiki.python.org.br/ListaDeExercicios)"
      ]
    },
    {
      "cell_type": "markdown",
      "metadata": {
        "id": "mdjSyVAKw0by"
      },
      "source": [
        "#[Estruturas Sequenciais](https://wiki.python.org.br/EstruturaSequencial)\n"
      ]
    },
    {
      "cell_type": "markdown",
      "metadata": {
        "id": "V1riZaXcxAqT"
      },
      "source": [
        "## Exercício 1"
      ]
    },
    {
      "cell_type": "markdown",
      "metadata": {
        "id": "8Rx_ScHGzP7m"
      },
      "source": [
        "### Faça um Programa que mostre a mensagem \"Olá mundo\" na tela."
      ]
    },
    {
      "cell_type": "code",
      "metadata": {
        "colab": {
          "base_uri": "https://localhost:8080/"
        },
        "id": "hH1IiaCgxG8g",
        "outputId": "045aa095-d838-472f-e96a-c1a1e5441baa"
      },
      "source": [
        "ola_mundo = input('Digite a palavra Olá Mundo: ')\n",
        "print(ola_mundo, type(ola_mundo))\n",
        "\n",
        "print('Olá Mundo')\n",
        "type('Olá mundo')"
      ],
      "execution_count": null,
      "outputs": [
        {
          "output_type": "stream",
          "name": "stdout",
          "text": [
            "Digite a palavra Olá Mundo: Olá Mundo\n",
            "Olá Mundo <class 'str'>\n",
            "Olá Mundo\n"
          ]
        },
        {
          "output_type": "execute_result",
          "data": {
            "text/plain": [
              "str"
            ]
          },
          "metadata": {},
          "execution_count": 1
        }
      ]
    },
    {
      "cell_type": "markdown",
      "metadata": {
        "id": "_n-Y7m2tyy0g"
      },
      "source": [
        "## Exercício 2"
      ]
    },
    {
      "cell_type": "markdown",
      "metadata": {
        "id": "2ZjwVw8Mz86A"
      },
      "source": [
        "### Faça um Programa que peça um número e então mostre a mensagem O número informado foi [número]."
      ]
    },
    {
      "cell_type": "code",
      "metadata": {
        "colab": {
          "base_uri": "https://localhost:8080/"
        },
        "id": "cbzx9L2YuAZa",
        "outputId": "57d4bd76-b92c-4df6-b296-bf53d9ecdde2"
      },
      "source": [
        "numero_escolhido = (input('Digite um número: ')\n",
        "\n",
        "print(f'O número escolhido foi {numero_escolhido}')\n"
      ],
      "execution_count": null,
      "outputs": [
        {
          "output_type": "stream",
          "name": "stdout",
          "text": [
            "Digite um número: 5\n",
            "O número escolhido foi (5.0, <class 'float'>)\n"
          ]
        }
      ]
    },
    {
      "cell_type": "markdown",
      "metadata": {
        "id": "c7xZam9j0zVB"
      },
      "source": [
        "## Exercício 3"
      ]
    },
    {
      "cell_type": "markdown",
      "metadata": {
        "id": "N3rGyr2I0MM_"
      },
      "source": [
        "### Faça um Programa que peça dois números e imprima a soma."
      ]
    },
    {
      "cell_type": "code",
      "metadata": {
        "colab": {
          "base_uri": "https://localhost:8080/"
        },
        "id": "elxF1TWj02ab",
        "outputId": "54fd7f00-2b27-4d6d-d509-84dbe125b15f"
      },
      "source": [
        "numero_1 = int(input('Digite um número: '))\n",
        "numero_2 = int(input('Digite outro número: '))\n",
        "soma = numero_1 + numero_2\n",
        "\n",
        "print(f'A soma dos números é: {soma}')"
      ],
      "execution_count": null,
      "outputs": [
        {
          "output_type": "stream",
          "name": "stdout",
          "text": [
            "Digite um número: 78\n",
            "Digite outro número: 89\n",
            "A soma dos números é: 167\n"
          ]
        }
      ]
    },
    {
      "cell_type": "markdown",
      "metadata": {
        "id": "ZY7iwPV52J0h"
      },
      "source": [
        "##Exercício 4"
      ]
    },
    {
      "cell_type": "markdown",
      "metadata": {
        "id": "59sr3t-Y0Z0-"
      },
      "source": [
        "### Faça um Programa que peça as 4 notas bimestrais e mostre a média."
      ]
    },
    {
      "cell_type": "code",
      "metadata": {
        "colab": {
          "base_uri": "https://localhost:8080/"
        },
        "id": "0yZv2EP_2Lkt",
        "outputId": "c02e6d23-574c-45dd-9cb9-f386d6cb1143"
      },
      "source": [
        "print('<< Formação DevPro >>')\n",
        "aluno = input('Digite o nome do Aluno: ')\n",
        "nota_1 = float(input('Digite a nota do Primeiro Bimestre: '))\n",
        "nota_2 = float(input('Digite a nota do Segundo Bimestre: '))\n",
        "nota_3 = float(input('Digite a nota do Terceiro Bimestre: '))\n",
        "nota_4 = float(input('Digite a nota do Quarto Bimestre: '))\n",
        "\n",
        "media_notas = (nota_1 + nota_2 + nota_3 + nota_4) // 4\n",
        "\n",
        "print(f'A média do Aluno {aluno} foi {media_notas}')\n",
        "\n",
        "\n"
      ],
      "execution_count": null,
      "outputs": [
        {
          "output_type": "stream",
          "name": "stdout",
          "text": [
            "<< Formação DevPro >>\n",
            "Digite o nome do Aluno: talvez\n",
            "Digite a nota do Primeiro Bimestre: 6.77\n",
            "Digite a nota do Segundo Bimestre: 6.77\n",
            "Digite a nota do Terceiro Bimestre: 4.56\n",
            "Digite a nota do Quarto Bimestre: 9.66\n",
            "A média do Aluno talvez foi 6.0\n"
          ]
        }
      ]
    },
    {
      "cell_type": "markdown",
      "metadata": {
        "id": "n5mnJJFr35Df"
      },
      "source": [
        "##Exercício 5"
      ]
    },
    {
      "cell_type": "markdown",
      "metadata": {
        "id": "eVfZissDGGd5"
      },
      "source": [
        "### Faça um Programa que converta metros para centímetros."
      ]
    },
    {
      "cell_type": "code",
      "metadata": {
        "id": "-U1bRZPP4OHx",
        "colab": {
          "base_uri": "https://localhost:8080/"
        },
        "outputId": "d454f8f0-ea17-43c9-9447-2a4188cb716c"
      },
      "source": [
        "conversor = int(input('Quantos metros deseja converter: '))\n",
        "calcular_conversor = conversor * 100\n",
        "print(f'{conversor} metros equivale a {calcular_conversor} centímetros')\n"
      ],
      "execution_count": null,
      "outputs": [
        {
          "output_type": "stream",
          "name": "stdout",
          "text": [
            "Quantos metros deseja converter: 145\n",
            "145 metros equivale a 14500 centímetros\n"
          ]
        }
      ]
    },
    {
      "cell_type": "markdown",
      "metadata": {
        "id": "sa2Lsica4IF5"
      },
      "source": [
        "##Exercício 6"
      ]
    },
    {
      "cell_type": "markdown",
      "metadata": {
        "id": "Mmj5DyqIST1P"
      },
      "source": [
        "### Faça um Programa que peça o raio de um círculo, calcule e mostre sua área."
      ]
    },
    {
      "cell_type": "code",
      "metadata": {
        "id": "AEQSk6y_4Pct",
        "colab": {
          "base_uri": "https://localhost:8080/"
        },
        "outputId": "1039da2b-28a0-4d09-b0d3-5a3e4ca081a0"
      },
      "source": [
        "print('Calculando a área de um Círculo')\n",
        "raio = int(input(f'Qual o valor do raio: '))\n",
        "calcular_area = 3.1415 * raio ** 2\n",
        "print(f'O tamanho da sua área é: {calcular_area}')\n",
        "\n"
      ],
      "execution_count": null,
      "outputs": [
        {
          "output_type": "stream",
          "name": "stdout",
          "text": [
            "Calculando a área de um Círculo\n",
            "Qual o valor do raio: 56\n",
            "O tamanho da sua área é: 9851.744\n"
          ]
        }
      ]
    },
    {
      "cell_type": "markdown",
      "metadata": {
        "id": "3cDqXRpB4RKf"
      },
      "source": [
        "## Exercício 7"
      ]
    },
    {
      "cell_type": "markdown",
      "metadata": {
        "id": "U7eFOmek78Pl"
      },
      "source": [
        "### Faça um Programa que calcule a área de um quadrado, em seguida mostre o dobro desta área para o usuário."
      ]
    },
    {
      "cell_type": "code",
      "metadata": {
        "id": "ATUllaD74VJs",
        "colab": {
          "base_uri": "https://localhost:8080/"
        },
        "outputId": "f9128eb2-0a74-42f2-ccf3-a22dfcded313"
      },
      "source": [
        "altura = int(input('Digite a Altura do Quadrado: '))\n",
        "largura = int(input('Digite a Largura do Quadrado: '))\n",
        "\n",
        "calculo_dos_lados = altura * largura\n",
        "dobro_da_area = calculo_dos_lados * 2\n",
        "\n",
        "print(f'O tamanho do sua área é {calculo_dos_lados}, e seu dobro é {dobro_da_area}')\n"
      ],
      "execution_count": null,
      "outputs": [
        {
          "output_type": "stream",
          "name": "stdout",
          "text": [
            "Digite a Altura do Quadrado: 4\n",
            "Digite a Largura do Quadrado: 5\n",
            "O tamanho do sua área é 20, e seu dobro é 40\n"
          ]
        }
      ]
    },
    {
      "cell_type": "markdown",
      "metadata": {
        "id": "ItU0Hhks4Vco"
      },
      "source": [
        "## Exercício 8"
      ]
    },
    {
      "cell_type": "markdown",
      "metadata": {
        "id": "8frwDroZMlqS"
      },
      "source": [
        "### Faça um Programa que pergunte quanto você ganha por hora e o número de horas trabalhadas no mês. Calcule e mostre o total do seu salário no referido mês."
      ]
    },
    {
      "cell_type": "code",
      "metadata": {
        "id": "ZrNv1hkG4X7j",
        "colab": {
          "base_uri": "https://localhost:8080/"
        },
        "outputId": "5c95ce57-d275-495c-e19b-a5d2a3071893"
      },
      "source": [
        "ganhos_horas = float(input('Quanto você ganha por hora: '))\n",
        "horas_trabalhadas = float(input('Quantas horas você trabalha por dia: '))\n",
        "dias_trabalhados = int(input('Quantos dias você trabalhou no mês: '))\n",
        "\n",
        "total_hora_dia = horas_trabalhadas * dias_trabalhados\n",
        "total_do_salario = int( total_hora_dia * ganhos_horas)\n",
        "\n",
        "print(f'Seu sálario no mês foi {float(total_do_salario)}')\n"
      ],
      "execution_count": null,
      "outputs": [
        {
          "output_type": "stream",
          "name": "stdout",
          "text": [
            "Quanto você ganha por hora: 7\n",
            "Quantas horas você trabalha por dia: 8\n",
            "Quantos dias você trabalhou no mês: 22\n",
            "Seu sálario no mês foi 1232.0\n"
          ]
        }
      ]
    },
    {
      "cell_type": "markdown",
      "metadata": {
        "id": "1Ocm7GRG4YLC"
      },
      "source": [
        "##Exercício 9"
      ]
    },
    {
      "cell_type": "markdown",
      "metadata": {
        "id": "S0gw-IIwTNVy"
      },
      "source": [
        "### Faça um Programa que peça a temperatura em graus Fahrenheit, transforme e mostre a temperatura em graus Celsius.\n",
        "C = 5 * ((F-32) / 9)"
      ]
    },
    {
      "cell_type": "code",
      "metadata": {
        "id": "WNYlt9hX4avN",
        "colab": {
          "base_uri": "https://localhost:8080/"
        },
        "outputId": "feb4bb18-dd49-451c-db66-7d7816ae6e54"
      },
      "source": [
        " temperatura_fahrenheit = int(input('Digite a temperatura em Fahrenheit: '))\n",
        "\n",
        "conversao_fah_para_cel = 5 * (temperatura_fahrenheit - 32 ) / 9\n",
        "print(f' {temperatura_fahrenheit}° graus Fahrenheit equivale a {int(conversao_fah_para_cel)}° graus Celsius')"
      ],
      "execution_count": null,
      "outputs": [
        {
          "output_type": "stream",
          "name": "stdout",
          "text": [
            "Digite a temperatura em Fahrenheit: 56\n",
            " 56° graus Fahrenheit equivale a 13° graus Celsius\n"
          ]
        }
      ]
    },
    {
      "cell_type": "markdown",
      "metadata": {
        "id": "FkuGn9wr4boS"
      },
      "source": [
        "##Exercício 10"
      ]
    },
    {
      "cell_type": "markdown",
      "metadata": {
        "id": "CspAdqrkZasy"
      },
      "source": [
        "### Faça um Programa que peça a temperatura em graus Celsius, transforme e mostre em graus Fahrenheit.\n",
        "F = (C × 9/5) + 32"
      ]
    },
    {
      "cell_type": "code",
      "metadata": {
        "id": "2QNHKgay4dJr",
        "colab": {
          "base_uri": "https://localhost:8080/"
        },
        "outputId": "cfb9a98a-bedb-4aeb-e682-409bc034f20c"
      },
      "source": [
        "temperatura_celsius = float(input('Digite a Temperatura em Celsius: '))\n",
        "\n",
        "conversao_cel_para_fah = (temperatura_celsius * 9 / 5) + 32\n",
        "\n",
        "print(f'{temperatura_celsius}° graus Celsius equivale a {conversao_cel_para_fah}° graus Fahrenheit')"
      ],
      "execution_count": null,
      "outputs": [
        {
          "output_type": "stream",
          "name": "stdout",
          "text": [
            "Digite a Temperatura em Celsius: 56\n",
            "56.0° graus Celsius equivale a 132.8° graus Fahrenheit\n"
          ]
        }
      ]
    },
    {
      "cell_type": "markdown",
      "metadata": {
        "id": "8i185Uue4dZq"
      },
      "source": [
        "##Exercício 11"
      ]
    },
    {
      "cell_type": "markdown",
      "metadata": {
        "id": "Tr0PaRogf_lP"
      },
      "source": [
        "### Faça um Programa que peça 2 números inteiros e um número real. Calcule e mostre:\n",
        "###o produto do dobro do primeiro com    metade do segundo .\n",
        "###a soma do triplo do primeiro com o terceiro\n",
        "###o terceiro elevado ao cubo."
      ]
    },
    {
      "cell_type": "code",
      "metadata": {
        "id": "2F5pte_m4f-K",
        "colab": {
          "base_uri": "https://localhost:8080/"
        },
        "outputId": "aafa9dd4-41d4-4a78-e88c-f89b648d4dbe"
      },
      "source": [
        "primeiro_numero = int(input('Digite um número inteiro: '))\n",
        "segundo_numero = int(input('Digite outro número inteiro: '))\n",
        "terceiro_numero = float(input('Digite um número real: '))\n",
        "\n",
        "calcular_dobro = int((primeiro_numero * 2) + (segundo_numero / 2))\n",
        "calcular_triplo = (primeiro_numero * 3) + terceiro_numero\n",
        "cal_exponecial = terceiro_numero ** 2\n",
        "\n",
        "print(f'O dobro de {primeiro_numero} + a metade de {segundo_numero} é {int(calcular_dobro)}')\n",
        "print(f'O triplo de {primeiro_numero} + {terceiro_numero} é {calcular_triplo}')\n",
        "print(f'{terceiro_numero}² é {cal_exponecial}')"
      ],
      "execution_count": null,
      "outputs": [
        {
          "output_type": "stream",
          "name": "stdout",
          "text": [
            "Digite um número inteiro: 10\n",
            "Digite outro número inteiro: 10\n",
            "Digite um número real: 10.0\n",
            "O dobro de 10 + a metade de 10 é 25\n",
            "O triplo de 10 + 10.0 é 40.0\n",
            "10.0² é 100.0\n"
          ]
        }
      ]
    },
    {
      "cell_type": "markdown",
      "metadata": {
        "id": "019dCJJ44gNJ"
      },
      "source": [
        "## Exercício 12"
      ]
    },
    {
      "cell_type": "markdown",
      "metadata": {
        "id": "xYnrMOM9ND5N"
      },
      "source": [
        "### Tendo como dados de entrada a altura de uma pessoa, construa um algoritmo que calcule seu peso ideal, usando a seguinte fórmula: (72.7*altura) - 58"
      ]
    },
    {
      "cell_type": "code",
      "metadata": {
        "id": "3TYNvF6K4jBg",
        "colab": {
          "base_uri": "https://localhost:8080/"
        },
        "outputId": "f4e5254f-afcc-4c3a-c55f-a5bf20782e2a"
      },
      "source": [
        "altura = float(input('Qual é sua altura: '))\n",
        "\n",
        "calcular_altura = int((72.7 * altura) - 58)\n",
        "\n",
        "print(f'Seu peso ideal é {calcular_altura} kg')"
      ],
      "execution_count": null,
      "outputs": [
        {
          "output_type": "stream",
          "name": "stdout",
          "text": [
            "Qual é sua altura: 1.89\n",
            "Seu peso ideal é 79 kg\n"
          ]
        }
      ]
    },
    {
      "cell_type": "markdown",
      "metadata": {
        "id": "ROOZtmnP4jdO"
      },
      "source": [
        "## Exercício 13"
      ]
    },
    {
      "cell_type": "markdown",
      "metadata": {
        "id": "WQ6AslQyOygs"
      },
      "source": [
        "### Tendo como dado de entrada a altura (h) de uma pessoa, construa um algoritmo que calcule seu peso ideal, utilizando as seguintes fórmulas\n",
        "Para homens: (72.7*h) - 58\n",
        "\n",
        "Para mulheres: (62.1*h) - 44.7"
      ]
    },
    {
      "cell_type": "code",
      "metadata": {
        "id": "ilXsFdjY4lgN",
        "colab": {
          "base_uri": "https://localhost:8080/"
        },
        "outputId": "9512139d-3d64-42f2-a8c1-a24d5f2283d3"
      },
      "source": [
        "altura_h = float(input('Digite sua altura: '))\n",
        "\n",
        "print(f'O peso ideal para homens com {altura_h} de altura é {int((72.7 * altura_h) - 58)} kg')\n",
        "print(f'O peso ideal para mulheres com {altura_h} de altura é {int((62.1 * altura_h) - 44.7)} kg')\n",
        "\n",
        "# outro modo\n",
        "input('Digite outro tamanho: ')\n",
        "\n",
        "peso_homem = int((72.7 * altura_h) - 58)\n",
        "peso_mulher = int((62.1 * altura_h) - 44.7)\n",
        "\n",
        "print(f'O peso ideal para homens com {altura_h} de altura é {peso_homem} kg')\n",
        "print(f'O peso ideal para mulheres com {altura_h} de altura é {peso_mulher} kg')\n"
      ],
      "execution_count": null,
      "outputs": [
        {
          "output_type": "stream",
          "name": "stdout",
          "text": [
            "Digite sua altura: 1.89\n",
            "O peso ideal para homens com 1.89 de altura é 79 kg\n",
            "O peso ideal para mulheres com 1.89 de altura é 72 kg\n",
            "Digite outro tamanho: 1.90\n",
            "O peso ideal para homens com 1.89 de altura é 79 kg\n",
            "O peso ideal para mulheres com 1.89 de altura é 72 kg\n"
          ]
        }
      ]
    },
    {
      "cell_type": "markdown",
      "metadata": {
        "id": "B_jso--p4l4D"
      },
      "source": [
        "##Exercício 14"
      ]
    },
    {
      "cell_type": "markdown",
      "metadata": {
        "id": "ym0EC0WRYIUz"
      },
      "source": [
        "### João Papo-de-Pescador, homem de bem, comprou um microcomputador para controlar o rendimento diário de seu trabalho. Toda vez que ele traz um peso de peixes maior que o estabelecido pelo regulamento de pesca do estado de São Paulo (50 quilos) deve pagar uma multa de R$ 4,00 por quilo excedente. João precisa que você faça um programa que leia a variável peso (peso de peixes) e calcule o excesso. Gravar na variável excesso a quantidade de quilos além do limite e na variável multa o valor da multa que João deverá pagar. Imprima os dados do programa com as mensagens adequadas."
      ]
    },
    {
      "cell_type": "code",
      "metadata": {
        "id": "I8D8Cjya4nmZ",
        "colab": {
          "base_uri": "https://localhost:8080/"
        },
        "outputId": "5043070b-323b-44a2-fbdf-9459e52dd536"
      },
      "source": [
        "kilo_peixe = float(input('Peso total de peixe é: '))\n",
        "\n",
        "multa_kilo = 4\n",
        "excesso = kilo_peixe % 50\n",
        "valor_total_multa = excesso * 4\n",
        "\n",
        "if kilo_peixe > 50:\n",
        "  print(f'Quantidade KG: {kilo_peixe}')\n",
        "  print(f'Excesso: {excesso}')\n",
        "  print(f'Multa: {valor_total_multa}')\n",
        "\n",
        "else:\n",
        "  print(f'Quantidade KG: {kilo_peixe}')\n",
        "  print(f'Excesso: 00,00')\n",
        "  print(f'Multa: 00,00')"
      ],
      "execution_count": null,
      "outputs": [
        {
          "output_type": "stream",
          "name": "stdout",
          "text": [
            "Peso total de peixe é: 50.1\n",
            "Quantidade KG: 50.1\n",
            "Excesso: 0.10000000000000142\n",
            "Multa: 0.4000000000000057\n"
          ]
        }
      ]
    },
    {
      "cell_type": "markdown",
      "metadata": {
        "id": "CqiGZ24k4n6o"
      },
      "source": [
        "##Exercício 15"
      ]
    },
    {
      "cell_type": "markdown",
      "metadata": {
        "id": "Lxa4xTRgocho"
      },
      "source": [
        "### Faça um Programa que pergunte quanto você ganha por hora e o número de horas trabalhadas no mês. Calcule e mostre o total do seu salário no referido mês, sabendo-se que são descontados 11% para o Imposto de Renda, 8% para o INSS e 5% para o sindicato, faça um programa que nos dê:\n",
        "#####salário bruto.\n",
        "#####quanto pagou ao INSS.\n",
        "#####quanto pagou ao sindicato.\n",
        "#####o salário líquido.\n",
        "#####calcule os descontos e o salário líquido, conforme a tabela abaixo:\n",
        "#####+ Salário Bruto : R$\n",
        "\n",
        "#####- IR (11%) : R$\n",
        "\n",
        "#####- INSS (8%) : R$\n",
        "\n",
        "#####- Sindicato ( 5%) : R$\n",
        "\n",
        "#####= Salário Liquido : R$\n",
        "#####Obs.: Salário Bruto - Descontos = Salário Líquido."
      ]
    },
    {
      "cell_type": "code",
      "metadata": {
        "id": "ZWz1hJW34pmH",
        "colab": {
          "base_uri": "https://localhost:8080/"
        },
        "outputId": "be3eb7d6-771c-418b-9c9f-f8b1ad67838d"
      },
      "source": [
        "ganho_por_hora = float(input('Quanto você ganha por hora: '))\n",
        "horas_trabalhadas_dia = float(input('Quantas hora você trabalha por dia: '))\n",
        "dias_trabalhados_mes = int(input('Quantos dias você trabalhou no mês: '))\n",
        "\n",
        "salario_mes = (ganho_por_hora * horas_trabalhadas_dia) * dias_trabalhados_mes\n",
        "\n",
        "ir = int(salario_mes * 0.11)\n",
        "inss = int(salario_mes * 0.08)\n",
        "sindicato = int( salario_mes * 0.05)\n",
        "total_desconto = ir + inss + sindicato\n",
        "salario_liquido = salario_mes - total_desconto\n",
        "\n",
        "print(f'Valor total de horas trabalhadas: R$ {salario_mes}')\n",
        "print(f'Desconto IR: R$ {ir}')\n",
        "print(f'Desconto INSS: R$ {inss}')\n",
        "print(f'Desconto Sindicato: R$ {sindicato}')\n",
        "print(f'Salário Final com desconto: R$ {salario_liquido}')\n",
        "\n",
        "\n"
      ],
      "execution_count": null,
      "outputs": [
        {
          "output_type": "stream",
          "name": "stdout",
          "text": [
            "Quanto você ganha por hora: 7.50\n",
            "Quantas hora você trabalha por dia: 8\n",
            "Quantos dias você trabalhou no mês: 22\n",
            "Valor total de horas trabalhadas: R$ 1320.0\n",
            "Desconto IR: R$ 145\n",
            "Desconto INSS: R$ 105\n",
            "Desconto Sindicato: R$ 66\n",
            "Salário Final com desconto: R$ 1004.0\n"
          ]
        }
      ]
    },
    {
      "cell_type": "markdown",
      "metadata": {
        "id": "ucFy7z-74p-y"
      },
      "source": [
        "##Exercício 16"
      ]
    },
    {
      "cell_type": "markdown",
      "metadata": {
        "id": "mOWM5bD9LFlM"
      },
      "source": [
        "### Faça um programa para uma loja de tintas. O programa deverá pedir o tamanho em metros quadrados da área a ser pintada. Considere que a cobertura da tinta é de 1 litro para cada 3 metros quadrados e que a tinta é vendida em latas de 18 litros, que custam R$ 80,00. Informe ao usuário a quantidades de latas de tinta a serem compradas e o preço total."
      ]
    },
    {
      "cell_type": "code",
      "metadata": {
        "id": "neLBfEeN4ryz",
        "colab": {
          "base_uri": "https://localhost:8080/"
        },
        "outputId": "0b2dda38-beb3-4705-b40c-992b7a8d6404"
      },
      "source": [
        "import math\n",
        "\n",
        "tamanho_em_metros = int(input('Quantos metros² você deseja pintar: '))\n",
        "\n",
        "litros_por_metro = 3\n",
        "quantidade_litros_por_latao = 18\n",
        "\n",
        "litro_a_ser_usado = tamanho_em_metros / litros_por_metro\n",
        "unidade_de_latao = math.ceil( litro_a_ser_usado / quantidade_litros_por_latao)\n",
        "valor_unidade_latao = float(unidade_de_latao * 80)\n",
        "\n",
        "print(f'Quantidade de Latão 18 litros: {unidade_de_latao} unidade(s)')\n",
        "print(f'Valor total: R$ {valor_unidade_latao}')\n"
      ],
      "execution_count": null,
      "outputs": [
        {
          "output_type": "stream",
          "name": "stdout",
          "text": [
            "Quantos metros² você deseja pintar: 100\n",
            "Quantidade de Latão 18 litros: 2 unidade(s)\n",
            "Valor total: R$ 160.0\n"
          ]
        }
      ]
    },
    {
      "cell_type": "markdown",
      "metadata": {
        "id": "4GRPhx3B4sMd"
      },
      "source": [
        "##Exercício 17"
      ]
    },
    {
      "cell_type": "markdown",
      "metadata": {
        "id": "wIlNwPirKJGk"
      },
      "source": [
        "### Faça um Programa para uma loja de tintas. O programa deverá pedir o tamanho em metros quadrados da área a ser pintada. Considere que a cobertura da tinta é de 1 litro para cada 6 metros quadrados e que a tinta é vendida em latas de 18 litros, que custam Rs 80,00 ou em galões de 3,6 litros, que custam R$ 25,00 \n",
        "Informe ao usuário as quantidades de tinta a serem compradas e os respectivos preços em 3 situações \n",
        "\n",
        "*comprar apenas latas de 18 litros;\n",
        "\n",
        "*comprar apenas galões de 3,6 litros;\n",
        "\n",
        "*misturar latas e galões, de forma que o custo de tinta seja menor. \n",
        "\n",
        "Acrescente 10% de folga e sempre arredonde os valores para cima, isto é, considere latas cheias.'"
      ]
    },
    {
      "cell_type": "code",
      "metadata": {
        "colab": {
          "base_uri": "https://localhost:8080/"
        },
        "id": "2cMy1t4E4wpS",
        "outputId": "01a53c10-3ed2-497f-8e34-82938e073cdf"
      },
      "source": [
        "import math\n",
        "\n",
        "area_ser_pintada = int(input(f'Qual o tamanho em metros desejado: '))\n",
        "area_com_folga = area_ser_pintada * 1.1\n",
        "litro_por_metros = 6\n",
        "litros_serem_usados = area_com_folga / litro_por_metros\n",
        "\n",
        "litros_por_latas = 18\n",
        "numero_de_latas = math.ceil(litros_serem_usados / litros_por_latas)\n",
        "valor_apenas_latas = numero_de_latas * 80\n",
        "print(f' Você usará {numero_de_latas} latas de 18 litros, no valor de {valor_apenas_latas}')\n",
        "\n",
        "litros_por_galoes = 3.5\n",
        "numero_de_galoes = math.ceil(litros_serem_usados / litros_por_galoes)\n",
        "valor_apenas_galoes = numero_de_galoes * 25\n",
        "print(f' Você usará {numero_de_galoes} galões de 3,5 litros, no valor de {valor_apenas_galoes}')\n",
        "\n",
        "\n",
        "numero_de_latas = math.floor(litros_serem_usados / litros_por_latas)\n",
        "valor_de_latas = numero_de_latas * 80\n",
        "litros_faltantes = litros_serem_usados % litros_por_latas\n",
        "numero_de_galoes = math.ceil(litros_faltantes / litros_por_galoes)\n",
        "valor_galoes = numero_de_galoes * 25\n",
        "\n",
        "valor_total_gasto = valor_de_latas + valor_galoes\n",
        "print(f' Você usará {numero_de_latas} latas de 18 litros mais  {numero_de_galoes} galões de 3,5 litros no valor total de {valor_total_gasto}')\n",
        "\n",
        "\n",
        "  \n"
      ],
      "execution_count": null,
      "outputs": [
        {
          "output_type": "stream",
          "name": "stdout",
          "text": [
            "Qual o tamanho em metros desejado: 100\n",
            " Você usará 2 latas de 18 litros, no valor de 160\n",
            " Você usará 6 galões de 3,5 litros, no valor de 150\n",
            " Você usará 1 latas de 18 litros mais  1 galões de 3,5 litros no valor total de 105\n"
          ]
        }
      ]
    },
    {
      "cell_type": "markdown",
      "metadata": {
        "id": "ENoKEt-T4unm"
      },
      "source": [
        "##Exercício 18"
      ]
    },
    {
      "cell_type": "markdown",
      "metadata": {
        "id": "nKObvKMJwcCO"
      },
      "source": [
        "### Faça um programa que peça o tamanho de um arquivo para download (em MB) e a velocidade de um link de Internet (em Mbps), calcule e informe o tempo aproximado de download do arquivo usando este link (em minutos)."
      ]
    },
    {
      "cell_type": "code",
      "metadata": {
        "id": "vI4e18rn4t_X",
        "colab": {
          "base_uri": "https://localhost:8080/"
        },
        "outputId": "72e06caa-b7f8-49da-a179-f42e886c5c3c"
      },
      "source": [
        "\n",
        "tamanho_arquivo = float(input('Tamanho do Arquivo MB: '))\n",
        "velocidade_internet = float(input('Velicidade da Internet: '))\n",
        "\n",
        "minutos_ = 60\n",
        "tempo_link = tamanho_arquivo / velocidade_internet\n",
        "tempo_total = tempo_link / minutos_\n",
        "\n",
        "if tamanho_arquivo >= 1000:\n",
        "  print(f'Tamanho do arquivo {tamanho_arquivo} GB')\n",
        "\n",
        "else:\n",
        "  print(f'Tamanho do arquivo {tamanho_arquivo} MB')\n",
        "\n",
        "print(f'Velocidade Download {velocidade_internet} Mbps')\n",
        "\n",
        "if tempo_total >= 1:\n",
        "  print(f'tempo aproximado de Download {tempo_total} Minutos')\n",
        "\n",
        "else:\n",
        "   print(f'tempo aproximado de Download {tempo_total} Segundos')\n"
      ],
      "execution_count": 40,
      "outputs": [
        {
          "output_type": "stream",
          "name": "stdout",
          "text": [
            "Tamanho do Arquivo MB: 900\n",
            "Velicidade da Internet: 1.5\n",
            "Tamanho do arquivo 900.0 MB\n",
            "Velocidade Download 1.5 Mbps\n",
            "tempo aproximado de Download 10.0 Minutos\n"
          ]
        }
      ]
    }
  ]
}